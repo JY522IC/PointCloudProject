{
  "cells": [
    {
      "cell_type": "markdown",
      "metadata": {
        "id": "view-in-github",
        "colab_type": "text"
      },
      "source": [
        "<a href=\"https://colab.research.google.com/github/JY522IC/PointCloudProject/blob/main/Pointnet_classification0725.ipynb\" target=\"_parent\"><img src=\"https://colab.research.google.com/assets/colab-badge.svg\" alt=\"Open In Colab\"/></a>"
      ]
    },
    {
      "cell_type": "markdown",
      "metadata": {
        "id": "bAqqSLDRKhhD"
      },
      "source": [
        "The original Pointnet work.\n",
        "Based on the paper:https://openaccess.thecvf.com/content_cvpr_2017/papers/Qi_PointNet_Deep_Learning_CVPR_2017_paper.pdf\n",
        "Code:https://github.com/Young98CN/pointconv_pytorch\n",
        "Github: https://github.com/yanx27/Pointnet_Pointnet2_pytorch/blob/master/models/pointnet_utils.py\n"
      ]
    },
    {
      "cell_type": "markdown",
      "metadata": {
        "id": "QyOPylmIpFMe"
      },
      "source": [
        "## Install the required libraries"
      ]
    },
    {
      "cell_type": "code",
      "execution_count": null,
      "metadata": {
        "colab": {
          "base_uri": "https://localhost:8080/"
        },
        "id": "XbNMwrqxWUsD",
        "outputId": "2d019351-477a-4a70-9f50-e60726b5419f"
      },
      "outputs": [
        {
          "output_type": "stream",
          "name": "stdout",
          "text": [
            "Requirement already satisfied: open3d in /usr/local/lib/python3.10/dist-packages (0.17.0)\n",
            "Requirement already satisfied: numpy>=1.18.0 in /usr/local/lib/python3.10/dist-packages (from open3d) (1.22.4)\n",
            "Requirement already satisfied: dash>=2.6.0 in /usr/local/lib/python3.10/dist-packages (from open3d) (2.11.1)\n",
            "Requirement already satisfied: werkzeug>=2.2.3 in /usr/local/lib/python3.10/dist-packages (from open3d) (2.2.3)\n",
            "Requirement already satisfied: nbformat==5.7.0 in /usr/local/lib/python3.10/dist-packages (from open3d) (5.7.0)\n",
            "Requirement already satisfied: configargparse in /usr/local/lib/python3.10/dist-packages (from open3d) (1.7)\n",
            "Requirement already satisfied: ipywidgets>=8.0.4 in /usr/local/lib/python3.10/dist-packages (from open3d) (8.0.7)\n",
            "Requirement already satisfied: addict in /usr/local/lib/python3.10/dist-packages (from open3d) (2.4.0)\n",
            "Requirement already satisfied: pillow>=9.3.0 in /usr/local/lib/python3.10/dist-packages (from open3d) (10.0.0)\n",
            "Requirement already satisfied: matplotlib>=3 in /usr/local/lib/python3.10/dist-packages (from open3d) (3.7.1)\n",
            "Requirement already satisfied: pandas>=1.0 in /usr/local/lib/python3.10/dist-packages (from open3d) (1.5.3)\n",
            "Requirement already satisfied: pyyaml>=5.4.1 in /usr/local/lib/python3.10/dist-packages (from open3d) (6.0.1)\n",
            "Requirement already satisfied: scikit-learn>=0.21 in /usr/local/lib/python3.10/dist-packages (from open3d) (1.2.2)\n",
            "Requirement already satisfied: tqdm in /usr/local/lib/python3.10/dist-packages (from open3d) (4.65.0)\n",
            "Requirement already satisfied: pyquaternion in /usr/local/lib/python3.10/dist-packages (from open3d) (0.9.9)\n",
            "Requirement already satisfied: fastjsonschema in /usr/local/lib/python3.10/dist-packages (from nbformat==5.7.0->open3d) (2.17.1)\n",
            "Requirement already satisfied: jsonschema>=2.6 in /usr/local/lib/python3.10/dist-packages (from nbformat==5.7.0->open3d) (4.3.3)\n",
            "Requirement already satisfied: jupyter-core in /usr/local/lib/python3.10/dist-packages (from nbformat==5.7.0->open3d) (5.3.1)\n",
            "Requirement already satisfied: traitlets>=5.1 in /usr/local/lib/python3.10/dist-packages (from nbformat==5.7.0->open3d) (5.7.1)\n",
            "Requirement already satisfied: Flask<2.3.0,>=1.0.4 in /usr/local/lib/python3.10/dist-packages (from dash>=2.6.0->open3d) (2.2.5)\n",
            "Requirement already satisfied: plotly>=5.0.0 in /usr/local/lib/python3.10/dist-packages (from dash>=2.6.0->open3d) (5.13.1)\n",
            "Requirement already satisfied: dash-html-components==2.0.0 in /usr/local/lib/python3.10/dist-packages (from dash>=2.6.0->open3d) (2.0.0)\n",
            "Requirement already satisfied: dash-core-components==2.0.0 in /usr/local/lib/python3.10/dist-packages (from dash>=2.6.0->open3d) (2.0.0)\n",
            "Requirement already satisfied: dash-table==5.0.0 in /usr/local/lib/python3.10/dist-packages (from dash>=2.6.0->open3d) (5.0.0)\n",
            "Requirement already satisfied: typing-extensions>=4.1.1 in /usr/local/lib/python3.10/dist-packages (from dash>=2.6.0->open3d) (4.7.1)\n",
            "Requirement already satisfied: requests in /usr/local/lib/python3.10/dist-packages (from dash>=2.6.0->open3d) (2.27.1)\n",
            "Requirement already satisfied: retrying in /usr/local/lib/python3.10/dist-packages (from dash>=2.6.0->open3d) (1.3.4)\n",
            "Requirement already satisfied: ansi2html in /usr/local/lib/python3.10/dist-packages (from dash>=2.6.0->open3d) (1.8.0)\n",
            "Requirement already satisfied: nest-asyncio in /usr/local/lib/python3.10/dist-packages (from dash>=2.6.0->open3d) (1.5.6)\n",
            "Requirement already satisfied: ipykernel>=4.5.1 in /usr/local/lib/python3.10/dist-packages (from ipywidgets>=8.0.4->open3d) (5.5.6)\n",
            "Requirement already satisfied: ipython>=6.1.0 in /usr/local/lib/python3.10/dist-packages (from ipywidgets>=8.0.4->open3d) (7.34.0)\n",
            "Requirement already satisfied: widgetsnbextension~=4.0.7 in /usr/local/lib/python3.10/dist-packages (from ipywidgets>=8.0.4->open3d) (4.0.8)\n",
            "Requirement already satisfied: jupyterlab-widgets~=3.0.7 in /usr/local/lib/python3.10/dist-packages (from ipywidgets>=8.0.4->open3d) (3.0.8)\n",
            "Requirement already satisfied: contourpy>=1.0.1 in /usr/local/lib/python3.10/dist-packages (from matplotlib>=3->open3d) (1.1.0)\n",
            "Requirement already satisfied: cycler>=0.10 in /usr/local/lib/python3.10/dist-packages (from matplotlib>=3->open3d) (0.11.0)\n",
            "Requirement already satisfied: fonttools>=4.22.0 in /usr/local/lib/python3.10/dist-packages (from matplotlib>=3->open3d) (4.41.0)\n",
            "Requirement already satisfied: kiwisolver>=1.0.1 in /usr/local/lib/python3.10/dist-packages (from matplotlib>=3->open3d) (1.4.4)\n",
            "Requirement already satisfied: packaging>=20.0 in /usr/local/lib/python3.10/dist-packages (from matplotlib>=3->open3d) (23.1)\n",
            "Requirement already satisfied: pyparsing>=2.3.1 in /usr/local/lib/python3.10/dist-packages (from matplotlib>=3->open3d) (3.1.0)\n",
            "Requirement already satisfied: python-dateutil>=2.7 in /usr/local/lib/python3.10/dist-packages (from matplotlib>=3->open3d) (2.8.2)\n",
            "Requirement already satisfied: pytz>=2020.1 in /usr/local/lib/python3.10/dist-packages (from pandas>=1.0->open3d) (2022.7.1)\n",
            "Requirement already satisfied: scipy>=1.3.2 in /usr/local/lib/python3.10/dist-packages (from scikit-learn>=0.21->open3d) (1.10.1)\n",
            "Requirement already satisfied: joblib>=1.1.1 in /usr/local/lib/python3.10/dist-packages (from scikit-learn>=0.21->open3d) (1.3.1)\n",
            "Requirement already satisfied: threadpoolctl>=2.0.0 in /usr/local/lib/python3.10/dist-packages (from scikit-learn>=0.21->open3d) (3.2.0)\n",
            "Requirement already satisfied: MarkupSafe>=2.1.1 in /usr/local/lib/python3.10/dist-packages (from werkzeug>=2.2.3->open3d) (2.1.3)\n",
            "Requirement already satisfied: Jinja2>=3.0 in /usr/local/lib/python3.10/dist-packages (from Flask<2.3.0,>=1.0.4->dash>=2.6.0->open3d) (3.1.2)\n",
            "Requirement already satisfied: itsdangerous>=2.0 in /usr/local/lib/python3.10/dist-packages (from Flask<2.3.0,>=1.0.4->dash>=2.6.0->open3d) (2.1.2)\n",
            "Requirement already satisfied: click>=8.0 in /usr/local/lib/python3.10/dist-packages (from Flask<2.3.0,>=1.0.4->dash>=2.6.0->open3d) (8.1.6)\n",
            "Requirement already satisfied: ipython-genutils in /usr/local/lib/python3.10/dist-packages (from ipykernel>=4.5.1->ipywidgets>=8.0.4->open3d) (0.2.0)\n",
            "Requirement already satisfied: jupyter-client in /usr/local/lib/python3.10/dist-packages (from ipykernel>=4.5.1->ipywidgets>=8.0.4->open3d) (6.1.12)\n",
            "Requirement already satisfied: tornado>=4.2 in /usr/local/lib/python3.10/dist-packages (from ipykernel>=4.5.1->ipywidgets>=8.0.4->open3d) (6.3.1)\n",
            "Requirement already satisfied: setuptools>=18.5 in /usr/local/lib/python3.10/dist-packages (from ipython>=6.1.0->ipywidgets>=8.0.4->open3d) (67.7.2)\n",
            "Requirement already satisfied: jedi>=0.16 in /usr/local/lib/python3.10/dist-packages (from ipython>=6.1.0->ipywidgets>=8.0.4->open3d) (0.18.2)\n",
            "Requirement already satisfied: decorator in /usr/local/lib/python3.10/dist-packages (from ipython>=6.1.0->ipywidgets>=8.0.4->open3d) (4.4.2)\n",
            "Requirement already satisfied: pickleshare in /usr/local/lib/python3.10/dist-packages (from ipython>=6.1.0->ipywidgets>=8.0.4->open3d) (0.7.5)\n",
            "Requirement already satisfied: prompt-toolkit!=3.0.0,!=3.0.1,<3.1.0,>=2.0.0 in /usr/local/lib/python3.10/dist-packages (from ipython>=6.1.0->ipywidgets>=8.0.4->open3d) (3.0.39)\n",
            "Requirement already satisfied: pygments in /usr/local/lib/python3.10/dist-packages (from ipython>=6.1.0->ipywidgets>=8.0.4->open3d) (2.14.0)\n",
            "Requirement already satisfied: backcall in /usr/local/lib/python3.10/dist-packages (from ipython>=6.1.0->ipywidgets>=8.0.4->open3d) (0.2.0)\n",
            "Requirement already satisfied: matplotlib-inline in /usr/local/lib/python3.10/dist-packages (from ipython>=6.1.0->ipywidgets>=8.0.4->open3d) (0.1.6)\n",
            "Requirement already satisfied: pexpect>4.3 in /usr/local/lib/python3.10/dist-packages (from ipython>=6.1.0->ipywidgets>=8.0.4->open3d) (4.8.0)\n",
            "Requirement already satisfied: attrs>=17.4.0 in /usr/local/lib/python3.10/dist-packages (from jsonschema>=2.6->nbformat==5.7.0->open3d) (23.1.0)\n",
            "Requirement already satisfied: pyrsistent!=0.17.0,!=0.17.1,!=0.17.2,>=0.14.0 in /usr/local/lib/python3.10/dist-packages (from jsonschema>=2.6->nbformat==5.7.0->open3d) (0.19.3)\n",
            "Requirement already satisfied: tenacity>=6.2.0 in /usr/local/lib/python3.10/dist-packages (from plotly>=5.0.0->dash>=2.6.0->open3d) (8.2.2)\n",
            "Requirement already satisfied: six>=1.5 in /usr/local/lib/python3.10/dist-packages (from python-dateutil>=2.7->matplotlib>=3->open3d) (1.16.0)\n",
            "Requirement already satisfied: platformdirs>=2.5 in /usr/local/lib/python3.10/dist-packages (from jupyter-core->nbformat==5.7.0->open3d) (3.9.1)\n",
            "Requirement already satisfied: urllib3<1.27,>=1.21.1 in /usr/local/lib/python3.10/dist-packages (from requests->dash>=2.6.0->open3d) (1.26.16)\n",
            "Requirement already satisfied: certifi>=2017.4.17 in /usr/local/lib/python3.10/dist-packages (from requests->dash>=2.6.0->open3d) (2023.5.7)\n",
            "Requirement already satisfied: charset-normalizer~=2.0.0 in /usr/local/lib/python3.10/dist-packages (from requests->dash>=2.6.0->open3d) (2.0.12)\n",
            "Requirement already satisfied: idna<4,>=2.5 in /usr/local/lib/python3.10/dist-packages (from requests->dash>=2.6.0->open3d) (3.4)\n",
            "Requirement already satisfied: parso<0.9.0,>=0.8.0 in /usr/local/lib/python3.10/dist-packages (from jedi>=0.16->ipython>=6.1.0->ipywidgets>=8.0.4->open3d) (0.8.3)\n",
            "Requirement already satisfied: ptyprocess>=0.5 in /usr/local/lib/python3.10/dist-packages (from pexpect>4.3->ipython>=6.1.0->ipywidgets>=8.0.4->open3d) (0.7.0)\n",
            "Requirement already satisfied: wcwidth in /usr/local/lib/python3.10/dist-packages (from prompt-toolkit!=3.0.0,!=3.0.1,<3.1.0,>=2.0.0->ipython>=6.1.0->ipywidgets>=8.0.4->open3d) (0.2.6)\n",
            "Requirement already satisfied: pyzmq>=13 in /usr/local/lib/python3.10/dist-packages (from jupyter-client->ipykernel>=4.5.1->ipywidgets>=8.0.4->open3d) (23.2.1)\n",
            "Requirement already satisfied: provider in /usr/local/lib/python3.10/dist-packages (0.11.0)\n",
            "Requirement already satisfied: boto3<2.0.0,>=1.26.82 in /usr/local/lib/python3.10/dist-packages (from provider) (1.28.10)\n",
            "Requirement already satisfied: click<9.0.0,>=8.1.3 in /usr/local/lib/python3.10/dist-packages (from provider) (8.1.6)\n",
            "Requirement already satisfied: common-fate-schema<0.8.0,>=0.7.0 in /usr/local/lib/python3.10/dist-packages (from provider) (0.7.0)\n",
            "Requirement already satisfied: pydantic<2.0.0,>=1.10.5 in /usr/local/lib/python3.10/dist-packages (from provider) (1.10.11)\n",
            "Requirement already satisfied: toml==0.10.2 in /usr/local/lib/python3.10/dist-packages (from provider) (0.10.2)\n",
            "Requirement already satisfied: typing-extensions<5.0.0,>=4.5.0 in /usr/local/lib/python3.10/dist-packages (from provider) (4.7.1)\n",
            "Requirement already satisfied: botocore<1.32.0,>=1.31.10 in /usr/local/lib/python3.10/dist-packages (from boto3<2.0.0,>=1.26.82->provider) (1.31.10)\n",
            "Requirement already satisfied: jmespath<2.0.0,>=0.7.1 in /usr/local/lib/python3.10/dist-packages (from boto3<2.0.0,>=1.26.82->provider) (1.0.1)\n",
            "Requirement already satisfied: s3transfer<0.7.0,>=0.6.0 in /usr/local/lib/python3.10/dist-packages (from boto3<2.0.0,>=1.26.82->provider) (0.6.1)\n",
            "Requirement already satisfied: python-dateutil<3.0.0,>=2.1 in /usr/local/lib/python3.10/dist-packages (from botocore<1.32.0,>=1.31.10->boto3<2.0.0,>=1.26.82->provider) (2.8.2)\n",
            "Requirement already satisfied: urllib3<1.27,>=1.25.4 in /usr/local/lib/python3.10/dist-packages (from botocore<1.32.0,>=1.31.10->boto3<2.0.0,>=1.26.82->provider) (1.26.16)\n",
            "Requirement already satisfied: six>=1.5 in /usr/local/lib/python3.10/dist-packages (from python-dateutil<3.0.0,>=2.1->botocore<1.32.0,>=1.31.10->boto3<2.0.0,>=1.26.82->provider) (1.16.0)\n",
            "2.0.1+cu118\n",
            "  Installing build dependencies ... \u001b[?25l\u001b[?25hdone\n",
            "  Getting requirements to build wheel ... \u001b[?25l\u001b[?25hdone\n",
            "  Preparing metadata (pyproject.toml) ... \u001b[?25l\u001b[?25hdone\n"
          ]
        }
      ],
      "source": [
        "# install the required libraries\n",
        "!pip install open3d\n",
        "!pip install provider\n",
        "\n",
        "# Install required packages.\n",
        "import os\n",
        "import torch\n",
        "os.environ['TORCH'] = torch.__version__\n",
        "print(torch.__version__)\n",
        "\n",
        "# !pip install -q torch-scatter -f https://data.pyg.org/whl/torch-${TORCH}.html\n",
        "# !pip install -q torch-sparse -f https://data.pyg.org/whl/torch-${TORCH}.html\n",
        "# !pip install -q torch-cluster -f https://data.pyg.org/whl/torch-${TORCH}.html\n",
        "!pip install -q git+https://github.com/pyg-team/pytorch_geometric.git\n",
        "\n",
        "# Helper functions for visualization.\n",
        "%matplotlib inline\n",
        "import matplotlib.pyplot as plt\n",
        "from mpl_toolkits.mplot3d import Axes3D\n",
        "\n",
        "def visualize_mesh(pos, face):\n",
        "    fig = plt.figure()\n",
        "    ax = fig.add_subplot(projection='3d')\n",
        "    # ax = fig.gca(projection='3d')\n",
        "    ax.axes.xaxis.set_ticklabels([])\n",
        "    ax.axes.yaxis.set_ticklabels([])\n",
        "    ax.axes.zaxis.set_ticklabels([])\n",
        "    ax.plot_trisurf(pos[:, 0], pos[:, 1], pos[:, 2], triangles=data.face.t(), antialiased=False)\n",
        "    plt.show()\n",
        "\n",
        "\n",
        "def visualize_points(pos, edge_index=None, index=None):\n",
        "    fig = plt.figure(figsize=(4, 4))\n",
        "    if edge_index is not None:\n",
        "        for (src, dst) in edge_index.t().tolist():\n",
        "             src = pos[src].tolist()\n",
        "             dst = pos[dst].tolist()\n",
        "             plt.plot([src[0], dst[0]], [src[1], dst[1]], linewidth=1, color='black')\n",
        "    if index is None:\n",
        "        plt.scatter(pos[:, 0], pos[:, 1], s=50, zorder=1000)\n",
        "    else:\n",
        "       mask = torch.zeros(pos.size(0), dtype=torch.bool)\n",
        "       mask[index] = True\n",
        "       plt.scatter(pos[~mask, 0], pos[~mask, 1], s=50, color='lightgray', zorder=1000)\n",
        "       plt.scatter(pos[mask, 0], pos[mask, 1], s=50, zorder=1000)\n",
        "    plt.axis('off')\n",
        "    plt.show()"
      ]
    },
    {
      "cell_type": "markdown",
      "metadata": {
        "id": "-j1mOazcpr5O"
      },
      "source": [
        "# Import the required libaries"
      ]
    },
    {
      "cell_type": "code",
      "execution_count": null,
      "metadata": {
        "id": "wzmvuUERn5JI"
      },
      "outputs": [],
      "source": [
        "import torch\n",
        "import os\n",
        "import pandas as pd\n",
        "from torch_geometric.data import InMemoryDataset, Data, download_url, extract_zip\n",
        "from torch_geometric.utils.convert import to_networkx\n",
        "import networkx as nx\n",
        "from tqdm import tqdm\n",
        "import open3d as o3d\n",
        "import numpy as np"
      ]
    },
    {
      "cell_type": "markdown",
      "metadata": {
        "id": "2Py4EvKWpzrT"
      },
      "source": [
        "# Define the functions"
      ]
    },
    {
      "cell_type": "markdown",
      "metadata": {
        "id": "f9kIvPE5p9aZ"
      },
      "source": [
        "Define the function to load the data"
      ]
    },
    {
      "cell_type": "code",
      "execution_count": null,
      "metadata": {
        "id": "ZFWgpUGpn8p5"
      },
      "outputs": [],
      "source": [
        "# input the file path and return the data of all labels\n",
        "def loadData(path):\n",
        "    # Load the pcd file\n",
        "    pcd = o3d.io.read_point_cloud(path)\n",
        "\n",
        "    # Control the number of points in the point cloud file\n",
        "    downpcd_farthest = pcd.farthest_point_down_sample(5000)\n",
        "\n",
        "    point_xyz = np.asarray(downpcd_farthest.points)\n",
        "    color_rgb = np.asarray(downpcd_farthest.colors)\n",
        "\n",
        "    return point_xyz,color_rgb"
      ]
    },
    {
      "cell_type": "markdown",
      "metadata": {
        "id": "YcKs3xwzrcTF"
      },
      "source": [
        "Define the function to normalize the point cloud data to its center position"
      ]
    },
    {
      "cell_type": "code",
      "execution_count": null,
      "metadata": {
        "id": "YWgbxtBVn-be"
      },
      "outputs": [],
      "source": [
        "def pc_normalize(pc):\n",
        "    \"\"\"\n",
        "    Point data normilization\n",
        "    :param pc: the pc to normilized\n",
        "    :return: the point data after normilization\n",
        "    \"\"\"\n",
        "    # the average value\n",
        "    centroid = np.mean(pc, axis=0)\n",
        "    pc = pc - centroid\n",
        "    m = np.max(np.sqrt(np.sum(pc ** 2, axis=1)))\n",
        "    # rescale\n",
        "    pc = pc / m\n",
        "    return pc"
      ]
    },
    {
      "cell_type": "markdown",
      "metadata": {
        "id": "iE6L9w5hrjaI"
      },
      "source": [
        "# Define the dataset in the pytorch geometry format"
      ]
    },
    {
      "cell_type": "code",
      "execution_count": null,
      "metadata": {
        "id": "JO5-rrAdn-_W"
      },
      "outputs": [],
      "source": [
        "class Operating_room_classification(InMemoryDataset):\n",
        "\n",
        "    # Base url to download the files\n",
        "    # url = 'http://nrvis.com/download/data/labeled/FRANKENSTEIN.zip'\n",
        "\n",
        "    def __init__(self, root, transform=None, pre_transform=None):\n",
        "        super(Operating_room_classification, self).__init__(root, transform, pre_transform)\n",
        "        self.data, self.slices = torch.load(self.processed_paths[0])\n",
        "\n",
        "    @property\n",
        "    def raw_file_names(self):\n",
        "        # List of the raw files\n",
        "        return []\n",
        "\n",
        "    @property\n",
        "    def processed_file_names(self):\n",
        "        # return list of files should be in processed dir, if found - skip processing\n",
        "        return ['data.pt']\n",
        "\n",
        "    # def download(self):\n",
        "    #     # Download the file specified in self.url and store\n",
        "    #     # it in self.raw_dir\n",
        "    #     path = download_url(self.url, self.raw_dir)\n",
        "    #     extract_zip(path, self.raw_dir)\n",
        "    #     # The zip file is removed\n",
        "    #     os.unlink(path)\n",
        "\n",
        "\n",
        "    def process(self):\n",
        "\n",
        "      if State == 1:\n",
        "        df = train_index\n",
        "      else:\n",
        "        df = test_index\n",
        "\n",
        "      # In the loop we extract the nodes' embeddings, edges connectivity for\n",
        "      # and label for a graph, process the information and put it in a Data\n",
        "      # object, then we add the object to a list\n",
        "      data_list = []\n",
        "      root_new = '/content/drive/MyDrive/Colab Notebooks/Pointnet 0428/Down20000 4'\n",
        "\n",
        "      for index, row in df.iterrows():\n",
        "\n",
        "        file_path = os.path.join(root_new, row[1])\n",
        "\n",
        "        if os.access(file_path, os.F_OK):\n",
        "\n",
        "          # print(row[1])\n",
        "          # load the data\n",
        "          point_pos,color_rgb = loadData(file_path)\n",
        "\n",
        "          # Normilize the data\n",
        "          new_points = pc_normalize(point_pos)\n",
        "\n",
        "          # Calculate the normal information\n",
        "          device = o3d.core.Device(\"CPU:0\")\n",
        "          dtype = o3d.core.float64\n",
        "          pcd = o3d.t.geometry.PointCloud(device)\n",
        "          pcd.point.positions = o3d.core.Tensor(new_points, dtype, device)\n",
        "          pcd = pcd.to_legacy()\n",
        "          radius = 0.01  # Searching Radius\n",
        "          max_nn = 30  # Number of neighboring points to estimate normal vector\n",
        "          pcd.estimate_normals(search_param=o3d.geometry.KDTreeSearchParamHybrid(radius, max_nn))\n",
        "\n",
        "          # Convert the position and label information into the Pytorch format\n",
        "          Pos = torch.tensor(new_points,dtype=torch.float32)\n",
        "          Y = torch.tensor(row[2],dtype=torch.long)\n",
        "          Normals = torch.tensor(np.asarray(pcd.normals),dtype=torch.float32)\n",
        "          Colors = torch.tensor(color_rgb,dtype=torch.float32)\n",
        "\n",
        "          # Save the data\n",
        "          graph = Data(pos = Pos, y = Y, normal = Normals, color = Colors)\n",
        "          data_list.append(graph)\n",
        "        else:\n",
        "          pass\n",
        "\n",
        "        # print(index)\n",
        "\n",
        "      # Apply the functions specified in pre_filter and pre_transform\n",
        "      if self.pre_filter is not None:\n",
        "          data_list = [data for data in data_list if self.pre_filter(data)]\n",
        "\n",
        "      if self.pre_transform is not None:\n",
        "          data_list = [self.pre_transform(data) for data in data_list]\n",
        "\n",
        "      # Store the processed data\n",
        "      data, slices = self.collate(data_list)\n",
        "      torch.save((data, slices), self.processed_paths[0])"
      ]
    },
    {
      "cell_type": "markdown",
      "metadata": {
        "id": "gsHuu50CrrLs"
      },
      "source": [
        "Create the dataset"
      ]
    },
    {
      "cell_type": "code",
      "execution_count": null,
      "metadata": {
        "id": "b52KMS2GoCRG"
      },
      "outputs": [],
      "source": [
        "import torch_geometric.transforms as T\n",
        "# load data\n",
        "df = pd.read_csv(r'/content/drive/MyDrive/Colab Notebooks/Pointnet 0428/ChannelFourBasedOnSittingPreparingAndOperating.csv')\n",
        "train_index=df.sample(frac=0.7)\n",
        "test_index=df[~df.index.isin(train_index.index)]\n",
        "\n",
        "# Create the train and test dataset based on the direction\n",
        "State = 1\n",
        "trainDataset = Operating_room_classification(root='/content/drive/MyDrive/Colab Notebooks/Pointnet 0428/PaperResult0725/TwoClass/Dataset/Train')\n",
        "State = 2\n",
        "testDataset = Operating_room_classification(root='/content/drive/MyDrive/Colab Notebooks/Pointnet 0428/PaperResult0725/TwoClass/Dataset/Test')"
      ]
    },
    {
      "cell_type": "markdown",
      "metadata": {
        "id": "xiB30LhbtDuD"
      },
      "source": [
        "# Define the Neural Network structure"
      ]
    },
    {
      "cell_type": "markdown",
      "metadata": {
        "id": "dFpR2S6TtWET"
      },
      "source": [
        "Main network structure consists of 2 multipy layer perception and 1 main structure"
      ]
    },
    {
      "cell_type": "code",
      "execution_count": null,
      "metadata": {
        "id": "m0MG_Z3iF0PX"
      },
      "outputs": [],
      "source": [
        "import torch\n",
        "import torch.nn as nn\n",
        "import torch.nn.parallel\n",
        "import torch.utils.data\n",
        "from torch.autograd import Variable\n",
        "import numpy as np\n",
        "import torch.nn.functional as F\n",
        "\n",
        "\n",
        "class STN3d(nn.Module):\n",
        "    def __init__(self, channel):\n",
        "        super(STN3d, self).__init__()\n",
        "        self.conv1 = torch.nn.Conv1d(channel, 64, 1)\n",
        "        self.conv2 = torch.nn.Conv1d(64, 128, 1)\n",
        "        self.conv3 = torch.nn.Conv1d(128, 1024, 1)\n",
        "        self.fc1 = nn.Linear(1024, 512)\n",
        "        self.fc2 = nn.Linear(512, 256)\n",
        "        self.fc3 = nn.Linear(256, 9)\n",
        "        self.relu = nn.ReLU()\n",
        "\n",
        "        self.bn1 = nn.BatchNorm1d(64)\n",
        "        self.bn2 = nn.BatchNorm1d(128)\n",
        "        self.bn3 = nn.BatchNorm1d(1024)\n",
        "        self.bn4 = nn.BatchNorm1d(512)\n",
        "        self.bn5 = nn.BatchNorm1d(256)\n",
        "\n",
        "    def forward(self, x):\n",
        "        batchsize = x.size()[0]\n",
        "        x = F.relu(self.bn1(self.conv1(x)))\n",
        "        x = F.relu(self.bn2(self.conv2(x)))\n",
        "        x = F.relu(self.bn3(self.conv3(x)))\n",
        "        x = torch.max(x, 2, keepdim=True)[0]\n",
        "        x = x.view(-1, 1024)\n",
        "\n",
        "        x = F.relu(self.bn4(self.fc1(x)))\n",
        "        x = F.relu(self.bn5(self.fc2(x)))\n",
        "        x = self.fc3(x)\n",
        "\n",
        "        iden = Variable(torch.from_numpy(np.array([1, 0, 0, 0, 1, 0, 0, 0, 1]).astype(np.float32))).view(1, 9).repeat(\n",
        "            batchsize, 1)\n",
        "        if x.is_cuda:\n",
        "            iden = iden.cuda()\n",
        "        x = x + iden\n",
        "        x = x.view(-1, 3, 3)\n",
        "        return x\n",
        "\n",
        "class STNkd(nn.Module):\n",
        "    def __init__(self, k=64):\n",
        "        super(STNkd, self).__init__()\n",
        "        self.conv1 = torch.nn.Conv1d(k, 64, 1)\n",
        "        self.conv2 = torch.nn.Conv1d(64, 128, 1)\n",
        "        self.conv3 = torch.nn.Conv1d(128, 1024, 1)\n",
        "        self.fc1 = nn.Linear(1024, 512)\n",
        "        self.fc2 = nn.Linear(512, 256)\n",
        "        self.fc3 = nn.Linear(256, k * k)\n",
        "        self.relu = nn.ReLU()\n",
        "\n",
        "        self.bn1 = nn.BatchNorm1d(64)\n",
        "        self.bn2 = nn.BatchNorm1d(128)\n",
        "        self.bn3 = nn.BatchNorm1d(1024)\n",
        "        self.bn4 = nn.BatchNorm1d(512)\n",
        "        self.bn5 = nn.BatchNorm1d(256)\n",
        "\n",
        "        self.k = k\n",
        "\n",
        "    def forward(self, x):\n",
        "        batchsize = x.size()[0]\n",
        "        x = F.relu(self.bn1(self.conv1(x)))\n",
        "        x = F.relu(self.bn2(self.conv2(x)))\n",
        "        x = F.relu(self.bn3(self.conv3(x)))\n",
        "        x = torch.max(x, 2, keepdim=True)[0]\n",
        "        x = x.view(-1, 1024)\n",
        "\n",
        "        x = F.relu(self.bn4(self.fc1(x)))\n",
        "        x = F.relu(self.bn5(self.fc2(x)))\n",
        "        x = self.fc3(x)\n",
        "\n",
        "        iden = Variable(torch.from_numpy(np.eye(self.k).flatten().astype(np.float32))).view(1, self.k * self.k).repeat(\n",
        "            batchsize, 1)\n",
        "        if x.is_cuda:\n",
        "            iden = iden.cuda()\n",
        "        x = x + iden\n",
        "        x = x.view(-1, self.k, self.k)\n",
        "        return x\n",
        "\n",
        "class PointNetEncoder(nn.Module):\n",
        "    def __init__(self, global_feat=True, feature_transform=False, channel=3):\n",
        "        super(PointNetEncoder, self).__init__()\n",
        "        self.stn = STN3d(channel)\n",
        "        self.conv1 = torch.nn.Conv1d(channel, 64, 1)\n",
        "        self.conv2 = torch.nn.Conv1d(64, 128, 1)\n",
        "        self.conv3 = torch.nn.Conv1d(128, 1024, 1)\n",
        "        self.bn1 = nn.BatchNorm1d(64)\n",
        "        self.bn2 = nn.BatchNorm1d(128)\n",
        "        self.bn3 = nn.BatchNorm1d(1024)\n",
        "        self.global_feat = global_feat\n",
        "        self.feature_transform = feature_transform\n",
        "        if self.feature_transform:\n",
        "            self.fstn = STNkd(k=64)\n",
        "\n",
        "    def forward(self, x):\n",
        "        B, D, N = x.size()\n",
        "        trans = self.stn(x)\n",
        "        x = x.transpose(2, 1)\n",
        "        if D > 3:\n",
        "            feature = x[:, :, 3:]\n",
        "            x = x[:, :, :3]\n",
        "        x = torch.bmm(x, trans)\n",
        "        if D > 3:\n",
        "            x = torch.cat([x, feature], dim=2)\n",
        "        x = x.transpose(2, 1)\n",
        "        x = F.relu(self.bn1(self.conv1(x)))\n",
        "\n",
        "        if self.feature_transform:\n",
        "            trans_feat = self.fstn(x)\n",
        "            x = x.transpose(2, 1)\n",
        "            x = torch.bmm(x, trans_feat)\n",
        "            x = x.transpose(2, 1)\n",
        "        else:\n",
        "            trans_feat = None\n",
        "\n",
        "        pointfeat = x\n",
        "        x = F.relu(self.bn2(self.conv2(x)))\n",
        "        x = self.bn3(self.conv3(x))\n",
        "        x = torch.max(x, 2, keepdim=True)[0]\n",
        "        x = x.view(-1, 1024)\n",
        "        if self.global_feat:\n",
        "            return x, trans, trans_feat\n",
        "        else:\n",
        "            x = x.view(-1, 1024, 1).repeat(1, 1, N)\n",
        "            return torch.cat([x, pointfeat], 1), trans, trans_feat\n",
        "\n",
        "\n",
        "def feature_transform_reguliarzer(trans):\n",
        "    d = trans.size()[1]\n",
        "    I = torch.eye(d)[None, :, :]\n",
        "    if trans.is_cuda:\n",
        "        I = I.cuda()\n",
        "    loss = torch.mean(torch.norm(torch.bmm(trans, trans.transpose(2, 1)) - I, dim=(1, 2)))\n",
        "    return loss"
      ]
    },
    {
      "cell_type": "markdown",
      "metadata": {
        "id": "fMU-jGCC3IBQ"
      },
      "source": [
        "Define the main train structure"
      ]
    },
    {
      "cell_type": "code",
      "execution_count": null,
      "metadata": {
        "id": "iJGWJgWut9_i"
      },
      "outputs": [],
      "source": [
        "import torch.nn as nn\n",
        "import torch.utils.data\n",
        "import torch.nn.functional as F\n",
        "\n",
        "class get_model(nn.Module):\n",
        "    def __init__(self, k=40, normal_channel=True):\n",
        "        super(get_model, self).__init__()\n",
        "        if normal_channel == 2:\n",
        "            channel = 6\n",
        "        elif normal_channel == 1:\n",
        "            channel = 3\n",
        "        else:\n",
        "            channel = 9\n",
        "        self.feat = PointNetEncoder(global_feat=True, feature_transform=True, channel=channel)\n",
        "        self.fc1 = nn.Linear(1024, 512)\n",
        "        self.fc2 = nn.Linear(512, 256)\n",
        "        self.fc3 = nn.Linear(256, k)\n",
        "        self.dropout = nn.Dropout(p=0.4)\n",
        "        self.bn1 = nn.BatchNorm1d(512)\n",
        "        self.bn2 = nn.BatchNorm1d(256)\n",
        "        self.relu = nn.ReLU()\n",
        "\n",
        "    def forward(self, x):\n",
        "        x, trans, trans_feat = self.feat(x)\n",
        "        x = F.relu(self.bn1(self.fc1(x)))\n",
        "        x = F.relu(self.bn2(self.dropout(self.fc2(x))))\n",
        "        x = self.fc3(x)\n",
        "        x = F.log_softmax(x, dim=1)\n",
        "        return x, trans_feat\n",
        "\n",
        "class get_loss(torch.nn.Module):\n",
        "    def __init__(self, mat_diff_loss_scale=0.001):\n",
        "        super(get_loss, self).__init__()\n",
        "        self.mat_diff_loss_scale = mat_diff_loss_scale\n",
        "\n",
        "    def forward(self, pred, target, trans_feat):\n",
        "        loss = F.nll_loss(pred, target)\n",
        "        mat_diff_loss = feature_transform_reguliarzer(trans_feat)\n",
        "\n",
        "        total_loss = loss + mat_diff_loss * self.mat_diff_loss_scale\n",
        "        return total_loss"
      ]
    },
    {
      "cell_type": "code",
      "execution_count": null,
      "metadata": {
        "id": "dOYZpeVqnnhH"
      },
      "outputs": [],
      "source": [
        "def inplace_relu(m):\n",
        "    classname = m.__class__.__name__\n",
        "    if classname.find('ReLU') != -1:\n",
        "        m.inplace=True"
      ]
    },
    {
      "cell_type": "code",
      "execution_count": null,
      "metadata": {
        "id": "oRiJkCM3v7JE"
      },
      "outputs": [],
      "source": [
        "def test(model, loader, num_class=40, normal_channel=True):\n",
        "    mean_correct = []\n",
        "    class_acc = np.zeros((num_class, 3))\n",
        "    classifier = model.eval()\n",
        "\n",
        "    for data in testDataLoader:\n",
        "    #for j, (points, target) in tqdm(enumerate(loader), total=len(loader)):\n",
        "\n",
        "        # if not args.use_cpu:\n",
        "        #     points, target = points.cuda(), target.cuda()\n",
        "\n",
        "        if use_normals == 2:\n",
        "          points = data.pos\n",
        "          points = np.asarray(points)\n",
        "          normal = data.normal\n",
        "\n",
        "          points = np.reshape(points,[int(np.shape(points)[0]/5000),5000,3])\n",
        "          normal = np.reshape(normal,[int(np.shape(normal)[0]/5000),5000,3])\n",
        "          new_points = np.concatenate((points,normal),axis=2)\n",
        "          points = torch.Tensor(new_points)\n",
        "          points = points.transpose(2, 1)\n",
        "\n",
        "        elif use_normals == 1:\n",
        "          points = data.pos\n",
        "          points = np.asarray(points)\n",
        "\n",
        "          points = np.reshape(points,[int(np.shape(points)[0]/5000),5000,3])\n",
        "          points = torch.Tensor(points)\n",
        "          points = points.transpose(2, 1)\n",
        "        else:\n",
        "          points = data.pos\n",
        "          points = np.asarray(points)\n",
        "          normal = data.normal\n",
        "          color = data.color\n",
        "\n",
        "          points = np.reshape(points,[int(np.shape(points)[0]/5000),5000,3])\n",
        "          normal = np.reshape(normal,[int(np.shape(normal)[0]/5000),5000,3])\n",
        "          color = np.reshape(color,[int(np.shape(color)[0]/5000),5000,3])\n",
        "\n",
        "          new_points = np.concatenate((points,normal,color),axis=2)\n",
        "          points = torch.Tensor(new_points)\n",
        "          points = points.transpose(2, 1)\n",
        "\n",
        "        pred, _ = classifier(points)\n",
        "        pred_choice = pred.data.max(1)[1]\n",
        "\n",
        "        # for cat in np.unique(target.cpu()):\n",
        "        #     classacc = pred_choice[target == cat].eq(target[target == cat].long().data).cpu().sum()\n",
        "        #     class_acc[cat, 0] += classacc.item() / float(points[target == cat].size()[0])\n",
        "        #     class_acc[cat, 1] += 1\n",
        "\n",
        "        correct = pred_choice.eq(data.y).cpu().sum()\n",
        "        mean_correct.append(correct.item() / float(points.size()[0]))\n",
        "\n",
        "    # class_acc[:, 2] = class_acc[:, 0] / class_acc[:, 1]\n",
        "    # class_acc = np.mean(class_acc[:, 2])\n",
        "    instance_acc = np.mean(mean_correct)\n",
        "\n",
        "    return instance_acc"
      ]
    },
    {
      "cell_type": "code",
      "execution_count": null,
      "metadata": {
        "id": "nquE2PUgH3KX",
        "colab": {
          "base_uri": "https://localhost:8080/",
          "height": 300
        },
        "outputId": "bd7f7026-1ccb-427b-a24d-f97c270d37a3"
      },
      "outputs": [
        {
          "output_type": "display_data",
          "data": {
            "text/plain": [
              "<IPython.core.display.Javascript object>"
            ],
            "application/javascript": [
              "google.colab.output.setIframeHeight(0, true, {maxHeight: 300})"
            ]
          },
          "metadata": {}
        },
        {
          "output_type": "stream",
          "name": "stderr",
          "text": [
            "INFO:Model:PARAMETER ...\n",
            "/usr/local/lib/python3.10/dist-packages/torch_geometric/data/in_memory_dataset.py:189: UserWarning: It is not recommended to directly access the internal storage format `data` of an 'InMemoryDataset'. The data of the dataset is already cached, so any modifications to `data` will not be reflected when accessing its elements. Clearing the cache now by removing all elements in `dataset._data_list`. If you are absolutely certain what you are doing, access the internal storage via `InMemoryDataset._data` instead to suppress this warning. Alternatively, you can access stacked individual attributes of every graph via `dataset.{attr_name}`.\n",
            "  warnings.warn(msg)\n",
            "INFO:Model:No existing model, starting training from scratch...\n",
            "INFO:Model:Start training...\n",
            "/usr/local/lib/python3.10/dist-packages/torch/optim/lr_scheduler.py:139: UserWarning: Detected call of `lr_scheduler.step()` before `optimizer.step()`. In PyTorch 1.1.0 and later, you should call them in the opposite order: `optimizer.step()` before `lr_scheduler.step()`.  Failure to do this will result in PyTorch skipping the first value of the learning rate schedule. See more details at https://pytorch.org/docs/stable/optim.html#how-to-adjust-learning-rate\n",
            "  warnings.warn(\"Detected call of `lr_scheduler.step()` before `optimizer.step()`. \"\n"
          ]
        },
        {
          "output_type": "stream",
          "name": "stdout",
          "text": [
            "PARAMETER ...\n",
            "No existing model, starting training from scratch...\n"
          ]
        },
        {
          "output_type": "stream",
          "name": "stderr",
          "text": [
            "Processing: 100%|██████████| 135/135 [06:21<00:00,  2.82s/it]\n"
          ]
        },
        {
          "output_type": "stream",
          "name": "stdout",
          "text": [
            "Epoch: 00, Train Instance Accuracy: 0.7062, Test Accuracy: 0.8052\n"
          ]
        },
        {
          "output_type": "stream",
          "name": "stderr",
          "text": [
            "Processing: 100%|██████████| 135/135 [06:19<00:00,  2.81s/it]\n"
          ]
        },
        {
          "output_type": "stream",
          "name": "stdout",
          "text": [
            "Epoch: 01, Train Instance Accuracy: 0.8914, Test Accuracy: 0.5371\n"
          ]
        },
        {
          "output_type": "stream",
          "name": "stderr",
          "text": [
            "Processing: 100%|██████████| 135/135 [06:17<00:00,  2.80s/it]\n"
          ]
        },
        {
          "output_type": "stream",
          "name": "stdout",
          "text": [
            "Epoch: 02, Train Instance Accuracy: 0.9235, Test Accuracy: 0.1819\n"
          ]
        },
        {
          "output_type": "stream",
          "name": "stderr",
          "text": [
            "Processing: 100%|██████████| 135/135 [06:16<00:00,  2.79s/it]\n"
          ]
        },
        {
          "output_type": "stream",
          "name": "stdout",
          "text": [
            "Epoch: 03, Train Instance Accuracy: 0.9052, Test Accuracy: 0.7948\n"
          ]
        },
        {
          "output_type": "stream",
          "name": "stderr",
          "text": [
            "Processing: 100%|██████████| 135/135 [06:18<00:00,  2.81s/it]\n"
          ]
        },
        {
          "output_type": "stream",
          "name": "stdout",
          "text": [
            "Epoch: 04, Train Instance Accuracy: 0.9693, Test Accuracy: 0.9836\n"
          ]
        },
        {
          "output_type": "stream",
          "name": "stderr",
          "text": [
            "Processing: 100%|██████████| 135/135 [06:18<00:00,  2.81s/it]\n"
          ]
        },
        {
          "output_type": "stream",
          "name": "stdout",
          "text": [
            "Epoch: 05, Train Instance Accuracy: 0.9546, Test Accuracy: 0.8586\n"
          ]
        },
        {
          "output_type": "stream",
          "name": "stderr",
          "text": [
            "Processing: 100%|██████████| 135/135 [06:16<00:00,  2.79s/it]\n"
          ]
        },
        {
          "output_type": "stream",
          "name": "stdout",
          "text": [
            "Epoch: 06, Train Instance Accuracy: 0.9732, Test Accuracy: 0.8853\n"
          ]
        },
        {
          "output_type": "stream",
          "name": "stderr",
          "text": [
            "Processing: 100%|██████████| 135/135 [06:18<00:00,  2.81s/it]\n"
          ]
        },
        {
          "output_type": "stream",
          "name": "stdout",
          "text": [
            "Epoch: 07, Train Instance Accuracy: 0.9762, Test Accuracy: 0.9483\n"
          ]
        },
        {
          "output_type": "stream",
          "name": "stderr",
          "text": [
            "Processing: 100%|██████████| 135/135 [06:17<00:00,  2.79s/it]\n"
          ]
        },
        {
          "output_type": "stream",
          "name": "stdout",
          "text": [
            "Epoch: 08, Train Instance Accuracy: 0.9777, Test Accuracy: 0.9319\n"
          ]
        },
        {
          "output_type": "stream",
          "name": "stderr",
          "text": [
            "Processing: 100%|██████████| 135/135 [06:18<00:00,  2.80s/it]\n"
          ]
        },
        {
          "output_type": "stream",
          "name": "stdout",
          "text": [
            "Epoch: 09, Train Instance Accuracy: 0.9737, Test Accuracy: 0.8207\n"
          ]
        },
        {
          "output_type": "stream",
          "name": "stderr",
          "text": [
            "Processing: 100%|██████████| 135/135 [06:18<00:00,  2.80s/it]\n"
          ]
        },
        {
          "output_type": "stream",
          "name": "stdout",
          "text": [
            "Epoch: 10, Train Instance Accuracy: 0.9758, Test Accuracy: 0.9302\n"
          ]
        },
        {
          "output_type": "stream",
          "name": "stderr",
          "text": [
            "Processing: 100%|██████████| 135/135 [06:19<00:00,  2.81s/it]\n"
          ]
        },
        {
          "output_type": "stream",
          "name": "stdout",
          "text": [
            "Epoch: 11, Train Instance Accuracy: 0.9743, Test Accuracy: 0.8509\n"
          ]
        },
        {
          "output_type": "stream",
          "name": "stderr",
          "text": [
            "Processing: 100%|██████████| 135/135 [06:20<00:00,  2.82s/it]\n"
          ]
        },
        {
          "output_type": "stream",
          "name": "stdout",
          "text": [
            "Epoch: 12, Train Instance Accuracy: 0.9756, Test Accuracy: 0.5707\n"
          ]
        },
        {
          "output_type": "stream",
          "name": "stderr",
          "text": [
            "Processing: 100%|██████████| 135/135 [06:21<00:00,  2.83s/it]\n"
          ]
        },
        {
          "output_type": "stream",
          "name": "stdout",
          "text": [
            "Epoch: 13, Train Instance Accuracy: 0.9796, Test Accuracy: 0.9552\n"
          ]
        },
        {
          "output_type": "stream",
          "name": "stderr",
          "text": [
            "Processing: 100%|██████████| 135/135 [06:50<00:00,  3.04s/it]\n"
          ]
        },
        {
          "output_type": "stream",
          "name": "stdout",
          "text": [
            "Epoch: 14, Train Instance Accuracy: 0.9807, Test Accuracy: 0.9707\n"
          ]
        },
        {
          "output_type": "stream",
          "name": "stderr",
          "text": [
            "Processing: 100%|██████████| 135/135 [07:56<00:00,  3.53s/it]\n"
          ]
        },
        {
          "output_type": "stream",
          "name": "stdout",
          "text": [
            "Epoch: 15, Train Instance Accuracy: 0.9838, Test Accuracy: 0.7440\n"
          ]
        },
        {
          "output_type": "stream",
          "name": "stderr",
          "text": [
            "Processing: 100%|██████████| 135/135 [08:29<00:00,  3.77s/it]\n"
          ]
        },
        {
          "output_type": "stream",
          "name": "stdout",
          "text": [
            "Epoch: 16, Train Instance Accuracy: 0.9719, Test Accuracy: 0.9879\n"
          ]
        },
        {
          "output_type": "stream",
          "name": "stderr",
          "text": [
            "Processing: 100%|██████████| 135/135 [09:37<00:00,  4.27s/it]\n"
          ]
        },
        {
          "output_type": "stream",
          "name": "stdout",
          "text": [
            "Epoch: 17, Train Instance Accuracy: 0.9852, Test Accuracy: 0.9129\n"
          ]
        },
        {
          "output_type": "stream",
          "name": "stderr",
          "text": [
            "Processing: 100%|██████████| 135/135 [10:41<00:00,  4.76s/it]\n"
          ]
        },
        {
          "output_type": "stream",
          "name": "stdout",
          "text": [
            "Epoch: 18, Train Instance Accuracy: 0.9835, Test Accuracy: 0.8991\n"
          ]
        },
        {
          "output_type": "stream",
          "name": "stderr",
          "text": [
            "Processing: 100%|██████████| 135/135 [11:44<00:00,  5.22s/it]\n"
          ]
        },
        {
          "output_type": "stream",
          "name": "stdout",
          "text": [
            "Epoch: 19, Train Instance Accuracy: 0.9848, Test Accuracy: 0.9845\n"
          ]
        }
      ],
      "source": [
        "import os\n",
        "import sys\n",
        "import torch\n",
        "import numpy as np\n",
        "\n",
        "import datetime\n",
        "import logging\n",
        "import provider\n",
        "import importlib\n",
        "import shutil\n",
        "import argparse\n",
        "\n",
        "from pathlib import Path\n",
        "from tqdm import tqdm\n",
        "from IPython.display import Javascript  # Restrict height of output cell.\n",
        "display(Javascript('''google.colab.output.setIframeHeight(0, true, {maxHeight: 300})'''))\n",
        "\n",
        "from sklearn.utils.class_weight import compute_sample_weight\n",
        "from torch_geometric.loader import DataLoader\n",
        "from torch.utils.data import WeightedRandomSampler\n",
        "\n",
        "# Define the required parameters\n",
        "num_class = trainDataset.num_classes\n",
        "# Number of classes in the dataset\n",
        "optimizer = 'Adam'\n",
        "# Define the optimizer used\n",
        "use_cpu = False\n",
        "# Whether to use cpu\n",
        "use_normals = 3\n",
        "log_dir = None\n",
        "# Define the log dir\n",
        "model = 'pointnet_cls'\n",
        "# The method name used\n",
        "learning_rate = 0.01\n",
        "# Define the learning rate\n",
        "decay_rate = 1e-4\n",
        "# Deine the decay rate\n",
        "epoch = 20\n",
        "# Define the number of epoch in training\n",
        "\n",
        "# Define the log\n",
        "def log_string(str):\n",
        "  logger.info(str)\n",
        "  print(str)\n",
        "\n",
        "'''HYPER PARAMETER'''\n",
        "os.environ[\"CUDA_VISIBLE_DEVICES\"] = '0'\n",
        "\n",
        "'''CREATE DIR'''\n",
        "timestr = str(datetime.datetime.now().strftime('%Y-%m-%d_%H-%M'))\n",
        "if use_normals == 1:\n",
        "  exp_dir = Path('/content/drive/MyDrive/Colab Notebooks/Pointnet 0428/PaperResult0725/TwoClass/PointnetPlusThreeChannel')\n",
        "elif use_normals == 2:\n",
        "  exp_dir = Path('/content/drive/MyDrive/Colab Notebooks/Pointnet 0428/PaperResult0725/TwoClass/PointnetPlusSixChannelt')\n",
        "else:\n",
        "  exp_dir = Path('/content/drive/MyDrive/Colab Notebooks/Pointnet 0428/PaperResult0725/TwoClass/PointnetPlusNineChannel')\n",
        "\n",
        "exp_dir.mkdir(exist_ok=True)\n",
        "exp_dir = exp_dir.joinpath('classification')\n",
        "exp_dir.mkdir(exist_ok=True)\n",
        "if log_dir is None:\n",
        "    exp_dir = exp_dir.joinpath(timestr)\n",
        "else:\n",
        "    exp_dir = exp_dir.joinpath(args.log_dir)\n",
        "exp_dir.mkdir(exist_ok=True)\n",
        "checkpoints_dir = exp_dir.joinpath('checkpoints/')\n",
        "checkpoints_dir.mkdir(exist_ok=True)\n",
        "log_dir = exp_dir.joinpath('logs/')\n",
        "log_dir.mkdir(exist_ok=True)\n",
        "\n",
        "'''LOG'''\n",
        "logger = logging.getLogger(\"Model\")\n",
        "logger.setLevel(logging.INFO)\n",
        "formatter = logging.Formatter('%(asctime)s - %(name)s - %(levelname)s - %(message)s')\n",
        "file_handler = logging.FileHandler('%s/%s.log' % (log_dir, model))\n",
        "file_handler.setLevel(logging.INFO)\n",
        "file_handler.setFormatter(formatter)\n",
        "logger.addHandler(file_handler)\n",
        "log_string('PARAMETER ...')\n",
        "\n",
        "# Over Sampling the data\n",
        "y_label = np.asarray(trainDataset.data.y)\n",
        "y_weight = compute_sample_weight(class_weight = 'balanced', y = y_label)\n",
        "Sampler = WeightedRandomSampler(y_weight, len(y_label), replacement=True)\n",
        "\n",
        "# Load the data\n",
        "trainDataLoader = DataLoader(trainDataset, batch_size=20, sampler = Sampler)\n",
        "testDataLoader = DataLoader(testDataset, batch_size=10)\n",
        "\n",
        "# Load the model\n",
        "classifier = get_model(num_class, normal_channel=use_normals)\n",
        "criterion = get_loss()\n",
        "classifier.apply(inplace_relu)\n",
        "\n",
        "# if use_cpu == True:\n",
        "#     classifier = classifier.cuda()\n",
        "#     criterion = criterion.cuda()\n",
        "\n",
        "try:\n",
        "    checkpoint = torch.load(str(exp_dir) + '/checkpoints/best_model.pth')\n",
        "    start_epoch = checkpoint['epoch']\n",
        "    classifier.load_state_dict(checkpoint['model_state_dict'])\n",
        "    log_string('Use pretrain model')\n",
        "except:\n",
        "    log_string('No existing model, starting training from scratch...')\n",
        "    start_epoch = 0\n",
        "\n",
        "if optimizer == 'Adam':\n",
        "    optimizer = torch.optim.Adam(\n",
        "        classifier.parameters(),\n",
        "        lr=learning_rate,\n",
        "        betas=(0.9, 0.999),\n",
        "        eps=1e-08,\n",
        "        weight_decay=decay_rate\n",
        "    )\n",
        "else:\n",
        "    optimizer = torch.optim.SGD(classifier.parameters(), lr=0.01, momentum=0.9)\n",
        "\n",
        "# Training parameters define\n",
        "scheduler = torch.optim.lr_scheduler.StepLR(optimizer, step_size=20, gamma=0.7)\n",
        "global_epoch = 0\n",
        "global_step = 0\n",
        "best_instance_acc = 0.0\n",
        "best_class_acc = 0.0\n",
        "\n",
        "'''TRANING'''\n",
        "logger.info('Start training...')\n",
        "for epoch in range(start_epoch, epoch):\n",
        "    # log_string('Epoch %d (%d/%s):' % (global_epoch + 1, epoch + 1, epoch))\n",
        "    mean_correct = []\n",
        "    classifier = classifier.train()\n",
        "\n",
        "    scheduler.step()\n",
        "    for data in tqdm(trainDataLoader, desc='Processing'):\n",
        "    #for batch_id, (points, target) in tqdm(enumerate(trainDataLoader, 0), total=len(trainDataLoader), smoothing=0.9):\n",
        "        optimizer.zero_grad()\n",
        "\n",
        "        # points = points.data.numpy()\n",
        "        # print(np.shape(points))\n",
        "        # points = provider.random_point_dropout(points)\n",
        "        # points[:, :, 0:3] = provider.random_scale_point_cloud(points[:, :, 0:3])\n",
        "        # points[:, :, 0:3] = provider.shift_point_cloud(points[:, :, 0:3])\n",
        "        if use_normals == 2:\n",
        "          points = data.pos\n",
        "          points = np.asarray(points)\n",
        "          normal = data.normal\n",
        "\n",
        "          points = np.reshape(points,[int(np.shape(points)[0]/5000),5000,3])\n",
        "          normal = np.reshape(normal,[int(np.shape(normal)[0]/5000),5000,3])\n",
        "          new_points = np.concatenate((points,normal),axis=2)\n",
        "          points = torch.Tensor(new_points)\n",
        "          points = points.transpose(2, 1)\n",
        "\n",
        "        elif use_normals == 1:\n",
        "          points = data.pos\n",
        "          points = np.asarray(points)\n",
        "\n",
        "          points = np.reshape(points,[int(np.shape(points)[0]/5000),5000,3])\n",
        "          points = torch.Tensor(points)\n",
        "          points = points.transpose(2, 1)\n",
        "        else:\n",
        "          points = data.pos\n",
        "          points = np.asarray(points)\n",
        "          normal = data.normal\n",
        "          color = data.color\n",
        "\n",
        "          points = np.reshape(points,[int(np.shape(points)[0]/5000),5000,3])\n",
        "          normal = np.reshape(normal,[int(np.shape(normal)[0]/5000),5000,3])\n",
        "          color = np.reshape(color,[int(np.shape(color)[0]/5000),5000,3])\n",
        "\n",
        "          new_points = np.concatenate((points,normal,color),axis=2)\n",
        "          points = torch.Tensor(new_points)\n",
        "          points = points.transpose(2, 1)\n",
        "        # if not args.use_cpu:\n",
        "        #     points, target = points.cuda(), target.cuda()\n",
        "\n",
        "        # print(data.size)\n",
        "\n",
        "        # classifier.eval()\n",
        "        pred, trans_feat = classifier(points)\n",
        "        loss = criterion(pred, data.y, trans_feat)\n",
        "        pred_choice = pred.data.max(1)[1]\n",
        "\n",
        "        correct = pred_choice.eq(data.y).cpu().sum()\n",
        "        mean_correct.append(correct.item() / float(points.size()[0]))\n",
        "        loss.backward()\n",
        "        optimizer.step()\n",
        "        global_step += 1\n",
        "\n",
        "    train_instance_acc = np.mean(mean_correct)\n",
        "    # log_string('Train Instance Accuracy: %f' % train_instance_acc)\n",
        "\n",
        "    with torch.no_grad():\n",
        "        instance_acc = test(classifier.eval(), testDataLoader, num_class=num_class, normal_channel=use_normals)\n",
        "\n",
        "        if (instance_acc >= best_instance_acc):\n",
        "            best_instance_acc = instance_acc\n",
        "            best_epoch = epoch + 1\n",
        "\n",
        "        # if (class_acc >= best_class_acc):\n",
        "        #     best_class_acc = class_acc\n",
        "        # log_string('Test Instance Accuracy: %f' % (instance_acc))\n",
        "        # log_string('Best Instance Accuracy: %f' % (best_instance_acc))\n",
        "\n",
        "        if (instance_acc >= best_instance_acc):\n",
        "            # logger.info('Save model...')\n",
        "            savepath = str(checkpoints_dir) + '/best_model.pth'\n",
        "            # log_string('Saving at %s' % savepath)\n",
        "            state = {\n",
        "                'epoch': best_epoch,\n",
        "                'instance_acc': instance_acc,\n",
        "                'model_state_dict': classifier.state_dict(),\n",
        "                'optimizer_state_dict': optimizer.state_dict(),\n",
        "            }\n",
        "            torch.save(state, savepath)\n",
        "        global_epoch += 1\n",
        "    print(f'Epoch: {epoch:02d}, Train Instance Accuracy: {train_instance_acc:.4f}, Test Accuracy: {instance_acc:.4f}')\n",
        "\n",
        "# logger.info('End of training...')\n"
      ]
    },
    {
      "cell_type": "code",
      "execution_count": null,
      "metadata": {
        "id": "jnzJaU9a2S4O"
      },
      "outputs": [],
      "source": [
        "from torch_geometric.loader import DataLoader\n",
        "trainDataLoader = DataLoader(trainDataset, batch_size=10, shuffle=True)\n",
        "batch = next(iter(trainDataLoader))"
      ]
    },
    {
      "cell_type": "code",
      "execution_count": null,
      "metadata": {
        "colab": {
          "base_uri": "https://localhost:8080/"
        },
        "id": "02MIg_RBGcnK",
        "outputId": "5c4bed44-c926-4dfd-edd5-3eef8dfe219d"
      },
      "outputs": [
        {
          "name": "stdout",
          "output_type": "stream",
          "text": [
            "<bound method BaseData.size of DataBatch(y=[10], pos=[50000, 3], normal=[50000, 3], batch=[50000], ptr=[11])>\n",
            "(50000, 3)\n",
            "torch.Size([50000, 3])\n",
            "(10, 5000, 3)\n",
            "(10, 5000, 6)\n",
            "<bound method BaseData.size of DataBatch(y=[10], pos=[50000, 3], normal=[50000, 3], batch=[50000], ptr=[11])>\n",
            "(50000, 3)\n",
            "torch.Size([50000, 3])\n",
            "(10, 5000, 3)\n",
            "(10, 5000, 6)\n",
            "<bound method BaseData.size of DataBatch(y=[10], pos=[50000, 3], normal=[50000, 3], batch=[50000], ptr=[11])>\n",
            "(50000, 3)\n",
            "torch.Size([50000, 3])\n",
            "(10, 5000, 3)\n",
            "(10, 5000, 6)\n",
            "<bound method BaseData.size of DataBatch(y=[10], pos=[50000, 3], normal=[50000, 3], batch=[50000], ptr=[11])>\n",
            "(50000, 3)\n",
            "torch.Size([50000, 3])\n",
            "(10, 5000, 3)\n",
            "(10, 5000, 6)\n",
            "<bound method BaseData.size of DataBatch(y=[10], pos=[50000, 3], normal=[50000, 3], batch=[50000], ptr=[11])>\n",
            "(50000, 3)\n",
            "torch.Size([50000, 3])\n",
            "(10, 5000, 3)\n",
            "(10, 5000, 6)\n",
            "<bound method BaseData.size of DataBatch(y=[10], pos=[50000, 3], normal=[50000, 3], batch=[50000], ptr=[11])>\n",
            "(50000, 3)\n",
            "torch.Size([50000, 3])\n",
            "(10, 5000, 3)\n",
            "(10, 5000, 6)\n",
            "<bound method BaseData.size of DataBatch(y=[10], pos=[50000, 3], normal=[50000, 3], batch=[50000], ptr=[11])>\n",
            "(50000, 3)\n",
            "torch.Size([50000, 3])\n",
            "(10, 5000, 3)\n",
            "(10, 5000, 6)\n",
            "<bound method BaseData.size of DataBatch(y=[10], pos=[50000, 3], normal=[50000, 3], batch=[50000], ptr=[11])>\n",
            "(50000, 3)\n",
            "torch.Size([50000, 3])\n",
            "(10, 5000, 3)\n",
            "(10, 5000, 6)\n",
            "<bound method BaseData.size of DataBatch(y=[10], pos=[50000, 3], normal=[50000, 3], batch=[50000], ptr=[11])>\n",
            "(50000, 3)\n",
            "torch.Size([50000, 3])\n",
            "(10, 5000, 3)\n",
            "(10, 5000, 6)\n",
            "<bound method BaseData.size of DataBatch(y=[10], pos=[50000, 3], normal=[50000, 3], batch=[50000], ptr=[11])>\n",
            "(50000, 3)\n",
            "torch.Size([50000, 3])\n",
            "(10, 5000, 3)\n",
            "(10, 5000, 6)\n"
          ]
        }
      ],
      "source": [
        "trainDataLoader = DataLoader(trainDataset, batch_size=10, shuffle=True)\n",
        "itar = 1\n",
        "for data in trainDataLoader:\n",
        "  print(data.size)\n",
        "\n",
        "  points = data.pos\n",
        "  points = np.asarray(points)\n",
        "  normal = data.normal\n",
        "  print(np.shape(points))\n",
        "  print(np.shape(normal))\n",
        "  new_points = np.reshape(points,[trainDataLoader.batch_size,5000,3])\n",
        "  new_normal = np.reshape(normal,[trainDataLoader.batch_size,5000,3])\n",
        "  newnew_points = np.concatenate((new_points,new_normal),axis=2)\n",
        "  print(np.shape(new_points))\n",
        "  print(np.shape(newnew_points))\n",
        "\n",
        "  itar += 1\n",
        "  if itar >10:\n",
        "    break\n",
        "\n",
        "# batch = next(iter(trainDataLoader))\n",
        "# print(batch)\n",
        "# print(np.shape(np.asarray(batch.pos)))\n",
        "# print(batch.y)\n",
        "# a = np.asarray(batch.batch)\n",
        "# a.flatten()\n",
        "# print(np.shape(np.asarray(batch.batch)))\n",
        "# c = [list(a),list(np.asarray(batch.pos))]\n",
        "# # print(c)\n",
        "# c = np.array(c)\n",
        "# print(np.shape([c]))\n",
        "\n"
      ]
    },
    {
      "cell_type": "code",
      "execution_count": null,
      "metadata": {
        "id": "Etq3EmH6p8If"
      },
      "outputs": [],
      "source": [
        "instance_acc = test(classifier.eval(), testDataLoader, num_class=num_class)\n"
      ]
    },
    {
      "cell_type": "markdown",
      "metadata": {
        "id": "z1UMxmaY9vgB"
      },
      "source": [
        "# Draw the confusion matrix"
      ]
    },
    {
      "cell_type": "code",
      "execution_count": null,
      "metadata": {
        "colab": {
          "base_uri": "https://localhost:8080/",
          "height": 467
        },
        "id": "dFKUCTFY90j1",
        "outputId": "11696d8d-0418-416f-8334-480c0f14b533"
      },
      "outputs": [
        {
          "output_type": "stream",
          "name": "stdout",
          "text": [
            "Test Accuracy: 1.0000\n"
          ]
        },
        {
          "output_type": "display_data",
          "data": {
            "text/plain": [
              "<Figure size 640x480 with 2 Axes>"
            ],
            "image/png": "[encoded data removed]"
          },
          "metadata": {}
        }
      ],
      "source": [
        "import torch\n",
        "from torch_geometric.loader import DataLoader\n",
        "from sklearn.metrics import confusion_matrix,ConfusionMatrixDisplay\n",
        "\n",
        "use_normals = False\n",
        "num_class = 2\n",
        "\n",
        "# Load the model\n",
        "# classifier = get_model(num_class, normal_channel=use_normals)\n",
        "# criterion = get_loss()\n",
        "# classifier.apply(inplace_relu)\n",
        "\n",
        "# # Load the trained network parameters\n",
        "# checkpoint = torch.load('/content/drive/MyDrive/Colab Notebooks/Pointnet 0428/TwoClassResult/LogsPointnet/classification/2023-06-15_16-55/checkpoints/best_model.pth')\n",
        "# start_epoch = checkpoint['epoch']\n",
        "# classifier.load_state_dict(checkpoint['model_state_dict'])\n",
        "\n",
        "# Load the test data\n",
        "testDataLoader = DataLoader(testDataset, batch_size=10)\n",
        "\n",
        "y_true = []\n",
        "y_pred = []\n",
        "with torch.no_grad():\n",
        "  for data in testDataLoader:\n",
        "    mean_correct = []\n",
        "\n",
        "    if use_normals:\n",
        "      points = data.pos\n",
        "      points = np.asarray(points)\n",
        "      normal = data.normal\n",
        "\n",
        "      points = np.reshape(points,[int(np.shape(points)[0]/5000),5000,3])\n",
        "      normal = np.reshape(normal,[int(np.shape(normal)[0]/5000),5000,3])\n",
        "      new_points = np.concatenate((points,normal),axis=2)\n",
        "      points = torch.Tensor(new_points)\n",
        "      points = points.transpose(2, 1)\n",
        "\n",
        "    else:\n",
        "      points = data.pos\n",
        "      points = np.asarray(points)\n",
        "\n",
        "      points = np.reshape(points,[int(np.shape(points)[0]/5000),5000,3])\n",
        "      points = torch.Tensor(points)\n",
        "      points = points.transpose(2, 1)\n",
        "\n",
        "    pred, _ = classifier(points)\n",
        "    pred_choice = pred.data.max(1)[1]\n",
        "\n",
        "    y_true.extend(data.y.numpy())\n",
        "    y_pred.extend(pred_choice.numpy())\n",
        "\n",
        "    correct = pred_choice.eq(data.y).cpu().sum()\n",
        "    mean_correct.append(correct.item() / float(points.size()[0]))\n",
        "\n",
        "# class_acc[:, 2] = class_acc[:, 0] / class_acc[:, 1]\n",
        "# class_acc = np.mean(class_acc[:, 2])\n",
        "instance_acc = np.mean(mean_correct)\n",
        "\n",
        "cf_matrix = confusion_matrix(y_true, y_pred)\n",
        "disp = ConfusionMatrixDisplay(confusion_matrix=cf_matrix, display_labels=['Prepraing','Operating'])\n",
        "disp.plot()\n",
        "\n",
        "print(f'Test Accuracy: {instance_acc:.4f}')"
      ]
    },
    {
      "cell_type": "code",
      "source": [
        "disp.plot()"
      ],
      "metadata": {
        "colab": {
          "base_uri": "https://localhost:8080/",
          "height": 738
        },
        "id": "8bUXwizp-iNB",
        "outputId": "4484fd0a-0b89-40fc-b6bd-f5309ff8669d"
      },
      "execution_count": null,
      "outputs": [
        {
          "output_type": "error",
          "ename": "TypeError",
          "evalue": "ignored",
          "traceback": [
            "\u001b[0;31m---------------------------------------------------------------------------\u001b[0m",
            "\u001b[0;31mTypeError\u001b[0m                                 Traceback (most recent call last)",
            "\u001b[0;32m<ipython-input-15-975122b97661>\u001b[0m in \u001b[0;36m<cell line: 1>\u001b[0;34m()\u001b[0m\n\u001b[0;32m----> 1\u001b[0;31m \u001b[0mdisp\u001b[0m\u001b[0;34m.\u001b[0m\u001b[0mplot\u001b[0m\u001b[0;34m(\u001b[0m\u001b[0;34m)\u001b[0m\u001b[0;34m\u001b[0m\u001b[0;34m\u001b[0m\u001b[0m\n\u001b[0m",
            "\u001b[0;32m/usr/local/lib/python3.10/dist-packages/sklearn/metrics/_plot/confusion_matrix.py\u001b[0m in \u001b[0;36mplot\u001b[0;34m(self, include_values, cmap, xticks_rotation, values_format, ax, colorbar, im_kw, text_kw)\u001b[0m\n\u001b[1;32m    179\u001b[0m         \u001b[0;32mif\u001b[0m \u001b[0mcolorbar\u001b[0m\u001b[0;34m:\u001b[0m\u001b[0;34m\u001b[0m\u001b[0;34m\u001b[0m\u001b[0m\n\u001b[1;32m    180\u001b[0m             \u001b[0mfig\u001b[0m\u001b[0;34m.\u001b[0m\u001b[0mcolorbar\u001b[0m\u001b[0;34m(\u001b[0m\u001b[0mself\u001b[0m\u001b[0;34m.\u001b[0m\u001b[0mim_\u001b[0m\u001b[0;34m,\u001b[0m \u001b[0max\u001b[0m\u001b[0;34m=\u001b[0m\u001b[0max\u001b[0m\u001b[0;34m)\u001b[0m\u001b[0;34m\u001b[0m\u001b[0;34m\u001b[0m\u001b[0m\n\u001b[0;32m--> 181\u001b[0;31m         ax.set(\n\u001b[0m\u001b[1;32m    182\u001b[0m             \u001b[0mxticks\u001b[0m\u001b[0;34m=\u001b[0m\u001b[0mnp\u001b[0m\u001b[0;34m.\u001b[0m\u001b[0marange\u001b[0m\u001b[0;34m(\u001b[0m\u001b[0mn_classes\u001b[0m\u001b[0;34m)\u001b[0m\u001b[0;34m,\u001b[0m\u001b[0;34m\u001b[0m\u001b[0;34m\u001b[0m\u001b[0m\n\u001b[1;32m    183\u001b[0m             \u001b[0myticks\u001b[0m\u001b[0;34m=\u001b[0m\u001b[0mnp\u001b[0m\u001b[0;34m.\u001b[0m\u001b[0marange\u001b[0m\u001b[0;34m(\u001b[0m\u001b[0mn_classes\u001b[0m\u001b[0;34m)\u001b[0m\u001b[0;34m,\u001b[0m\u001b[0;34m\u001b[0m\u001b[0;34m\u001b[0m\u001b[0m\n",
            "\u001b[0;32m/usr/local/lib/python3.10/dist-packages/matplotlib/artist.py\u001b[0m in \u001b[0;36m<lambda>\u001b[0;34m(self, **kwargs)\u001b[0m\n\u001b[1;32m    145\u001b[0m             \u001b[0;32mreturn\u001b[0m\u001b[0;34m\u001b[0m\u001b[0;34m\u001b[0m\u001b[0m\n\u001b[1;32m    146\u001b[0m \u001b[0;34m\u001b[0m\u001b[0m\n\u001b[0;32m--> 147\u001b[0;31m         \u001b[0mcls\u001b[0m\u001b[0;34m.\u001b[0m\u001b[0mset\u001b[0m \u001b[0;34m=\u001b[0m \u001b[0;32mlambda\u001b[0m \u001b[0mself\u001b[0m\u001b[0;34m,\u001b[0m \u001b[0;34m**\u001b[0m\u001b[0mkwargs\u001b[0m\u001b[0;34m:\u001b[0m \u001b[0mArtist\u001b[0m\u001b[0;34m.\u001b[0m\u001b[0mset\u001b[0m\u001b[0;34m(\u001b[0m\u001b[0mself\u001b[0m\u001b[0;34m,\u001b[0m \u001b[0;34m**\u001b[0m\u001b[0mkwargs\u001b[0m\u001b[0;34m)\u001b[0m\u001b[0;34m\u001b[0m\u001b[0;34m\u001b[0m\u001b[0m\n\u001b[0m\u001b[1;32m    148\u001b[0m         \u001b[0mcls\u001b[0m\u001b[0;34m.\u001b[0m\u001b[0mset\u001b[0m\u001b[0;34m.\u001b[0m\u001b[0m__name__\u001b[0m \u001b[0;34m=\u001b[0m \u001b[0;34m\"set\"\u001b[0m\u001b[0;34m\u001b[0m\u001b[0;34m\u001b[0m\u001b[0m\n\u001b[1;32m    149\u001b[0m         \u001b[0mcls\u001b[0m\u001b[0;34m.\u001b[0m\u001b[0mset\u001b[0m\u001b[0;34m.\u001b[0m\u001b[0m__qualname__\u001b[0m \u001b[0;34m=\u001b[0m \u001b[0;34mf\"{cls.__qualname__}.set\"\u001b[0m\u001b[0;34m\u001b[0m\u001b[0;34m\u001b[0m\u001b[0m\n",
            "\u001b[0;32m/usr/local/lib/python3.10/dist-packages/matplotlib/artist.py\u001b[0m in \u001b[0;36mset\u001b[0;34m(self, **kwargs)\u001b[0m\n\u001b[1;32m   1229\u001b[0m         \u001b[0;31m# Artist._update_set_signature_and_docstring() at the end of the\u001b[0m\u001b[0;34m\u001b[0m\u001b[0;34m\u001b[0m\u001b[0m\n\u001b[1;32m   1230\u001b[0m         \u001b[0;31m# module.\u001b[0m\u001b[0;34m\u001b[0m\u001b[0;34m\u001b[0m\u001b[0m\n\u001b[0;32m-> 1231\u001b[0;31m         \u001b[0;32mreturn\u001b[0m \u001b[0mself\u001b[0m\u001b[0;34m.\u001b[0m\u001b[0m_internal_update\u001b[0m\u001b[0;34m(\u001b[0m\u001b[0mcbook\u001b[0m\u001b[0;34m.\u001b[0m\u001b[0mnormalize_kwargs\u001b[0m\u001b[0;34m(\u001b[0m\u001b[0mkwargs\u001b[0m\u001b[0;34m,\u001b[0m \u001b[0mself\u001b[0m\u001b[0;34m)\u001b[0m\u001b[0;34m)\u001b[0m\u001b[0;34m\u001b[0m\u001b[0;34m\u001b[0m\u001b[0m\n\u001b[0m\u001b[1;32m   1232\u001b[0m \u001b[0;34m\u001b[0m\u001b[0m\n\u001b[1;32m   1233\u001b[0m     \u001b[0;34m@\u001b[0m\u001b[0mcontextlib\u001b[0m\u001b[0;34m.\u001b[0m\u001b[0mcontextmanager\u001b[0m\u001b[0;34m\u001b[0m\u001b[0;34m\u001b[0m\u001b[0m\n",
            "\u001b[0;32m/usr/local/lib/python3.10/dist-packages/matplotlib/artist.py\u001b[0m in \u001b[0;36m_internal_update\u001b[0;34m(self, kwargs)\u001b[0m\n\u001b[1;32m   1221\u001b[0m         \u001b[0mThe\u001b[0m \u001b[0mlack\u001b[0m \u001b[0mof\u001b[0m \u001b[0mprenormalization\u001b[0m \u001b[0;32mis\u001b[0m \u001b[0mto\u001b[0m \u001b[0mmaintain\u001b[0m \u001b[0mbackcompatibility\u001b[0m\u001b[0;34m.\u001b[0m\u001b[0;34m\u001b[0m\u001b[0;34m\u001b[0m\u001b[0m\n\u001b[1;32m   1222\u001b[0m         \"\"\"\n\u001b[0;32m-> 1223\u001b[0;31m         return self._update_props(\n\u001b[0m\u001b[1;32m   1224\u001b[0m             \u001b[0mkwargs\u001b[0m\u001b[0;34m,\u001b[0m \u001b[0;34m\"{cls.__name__}.set() got an unexpected keyword argument \"\u001b[0m\u001b[0;34m\u001b[0m\u001b[0;34m\u001b[0m\u001b[0m\n\u001b[1;32m   1225\u001b[0m             \"{prop_name!r}\")\n",
            "\u001b[0;32m/usr/local/lib/python3.10/dist-packages/matplotlib/artist.py\u001b[0m in \u001b[0;36m_update_props\u001b[0;34m(self, props, errfmt)\u001b[0m\n\u001b[1;32m   1197\u001b[0m                         raise AttributeError(\n\u001b[1;32m   1198\u001b[0m                             errfmt.format(cls=type(self), prop_name=k))\n\u001b[0;32m-> 1199\u001b[0;31m                     \u001b[0mret\u001b[0m\u001b[0;34m.\u001b[0m\u001b[0mappend\u001b[0m\u001b[0;34m(\u001b[0m\u001b[0mfunc\u001b[0m\u001b[0;34m(\u001b[0m\u001b[0mv\u001b[0m\u001b[0;34m)\u001b[0m\u001b[0;34m)\u001b[0m\u001b[0;34m\u001b[0m\u001b[0;34m\u001b[0m\u001b[0m\n\u001b[0m\u001b[1;32m   1200\u001b[0m         \u001b[0;32mif\u001b[0m \u001b[0mret\u001b[0m\u001b[0;34m:\u001b[0m\u001b[0;34m\u001b[0m\u001b[0;34m\u001b[0m\u001b[0m\n\u001b[1;32m   1201\u001b[0m             \u001b[0mself\u001b[0m\u001b[0;34m.\u001b[0m\u001b[0mpchanged\u001b[0m\u001b[0;34m(\u001b[0m\u001b[0;34m)\u001b[0m\u001b[0;34m\u001b[0m\u001b[0;34m\u001b[0m\u001b[0m\n",
            "\u001b[0;32m/usr/local/lib/python3.10/dist-packages/matplotlib/axes/_base.py\u001b[0m in \u001b[0;36mwrapper\u001b[0;34m(self, *args, **kwargs)\u001b[0m\n\u001b[1;32m     72\u001b[0m \u001b[0;34m\u001b[0m\u001b[0m\n\u001b[1;32m     73\u001b[0m         \u001b[0;32mdef\u001b[0m \u001b[0mwrapper\u001b[0m\u001b[0;34m(\u001b[0m\u001b[0mself\u001b[0m\u001b[0;34m,\u001b[0m \u001b[0;34m*\u001b[0m\u001b[0margs\u001b[0m\u001b[0;34m,\u001b[0m \u001b[0;34m**\u001b[0m\u001b[0mkwargs\u001b[0m\u001b[0;34m)\u001b[0m\u001b[0;34m:\u001b[0m\u001b[0;34m\u001b[0m\u001b[0;34m\u001b[0m\u001b[0m\n\u001b[0;32m---> 74\u001b[0;31m             \u001b[0;32mreturn\u001b[0m \u001b[0mget_method\u001b[0m\u001b[0;34m(\u001b[0m\u001b[0mself\u001b[0m\u001b[0;34m)\u001b[0m\u001b[0;34m(\u001b[0m\u001b[0;34m*\u001b[0m\u001b[0margs\u001b[0m\u001b[0;34m,\u001b[0m \u001b[0;34m**\u001b[0m\u001b[0mkwargs\u001b[0m\u001b[0;34m)\u001b[0m\u001b[0;34m\u001b[0m\u001b[0;34m\u001b[0m\u001b[0m\n\u001b[0m\u001b[1;32m     75\u001b[0m \u001b[0;34m\u001b[0m\u001b[0m\n\u001b[1;32m     76\u001b[0m         \u001b[0mwrapper\u001b[0m\u001b[0;34m.\u001b[0m\u001b[0m__module__\u001b[0m \u001b[0;34m=\u001b[0m \u001b[0mowner\u001b[0m\u001b[0;34m.\u001b[0m\u001b[0m__module__\u001b[0m\u001b[0;34m\u001b[0m\u001b[0;34m\u001b[0m\u001b[0m\n",
            "\u001b[0;32m/usr/local/lib/python3.10/dist-packages/matplotlib/_api/deprecation.py\u001b[0m in \u001b[0;36mwrapper\u001b[0;34m(*args, **kwargs)\u001b[0m\n\u001b[1;32m    295\u001b[0m                 f\"for the old name will be dropped %(removal)s.\")\n\u001b[1;32m    296\u001b[0m             \u001b[0mkwargs\u001b[0m\u001b[0;34m[\u001b[0m\u001b[0mnew\u001b[0m\u001b[0;34m]\u001b[0m \u001b[0;34m=\u001b[0m \u001b[0mkwargs\u001b[0m\u001b[0;34m.\u001b[0m\u001b[0mpop\u001b[0m\u001b[0;34m(\u001b[0m\u001b[0mold\u001b[0m\u001b[0;34m)\u001b[0m\u001b[0;34m\u001b[0m\u001b[0;34m\u001b[0m\u001b[0m\n\u001b[0;32m--> 297\u001b[0;31m         \u001b[0;32mreturn\u001b[0m \u001b[0mfunc\u001b[0m\u001b[0;34m(\u001b[0m\u001b[0;34m*\u001b[0m\u001b[0margs\u001b[0m\u001b[0;34m,\u001b[0m \u001b[0;34m**\u001b[0m\u001b[0mkwargs\u001b[0m\u001b[0;34m)\u001b[0m\u001b[0;34m\u001b[0m\u001b[0;34m\u001b[0m\u001b[0m\n\u001b[0m\u001b[1;32m    298\u001b[0m \u001b[0;34m\u001b[0m\u001b[0m\n\u001b[1;32m    299\u001b[0m     \u001b[0;31m# wrapper() must keep the same documented signature as func(): if we\u001b[0m\u001b[0;34m\u001b[0m\u001b[0;34m\u001b[0m\u001b[0m\n",
            "\u001b[0;32m/usr/local/lib/python3.10/dist-packages/matplotlib/axis.py\u001b[0m in \u001b[0;36mset_ticklabels\u001b[0;34m(self, labels, minor, fontdict, **kwargs)\u001b[0m\n\u001b[1;32m   1960\u001b[0m                       for t in labels]\n\u001b[1;32m   1961\u001b[0m         \u001b[0;32mexcept\u001b[0m \u001b[0mTypeError\u001b[0m\u001b[0;34m:\u001b[0m\u001b[0;34m\u001b[0m\u001b[0;34m\u001b[0m\u001b[0m\n\u001b[0;32m-> 1962\u001b[0;31m             \u001b[0;32mraise\u001b[0m \u001b[0mTypeError\u001b[0m\u001b[0;34m(\u001b[0m\u001b[0;34mf\"{labels:=} must be a sequence\"\u001b[0m\u001b[0;34m)\u001b[0m \u001b[0;32mfrom\u001b[0m \u001b[0;32mNone\u001b[0m\u001b[0;34m\u001b[0m\u001b[0;34m\u001b[0m\u001b[0m\n\u001b[0m\u001b[1;32m   1963\u001b[0m         locator = (self.get_minor_locator() if minor\n\u001b[1;32m   1964\u001b[0m                    else self.get_major_locator())\n",
            "\u001b[0;31mTypeError\u001b[0m: 2 must be a sequence"
          ]
        },
        {
          "output_type": "display_data",
          "data": {
            "text/plain": [
              "<Figure size 640x480 with 2 Axes>"
            ],
            "image/png": "[encoded data removed]"
          },
          "metadata": {}
        }
      ]
    }
  ],
  "metadata": {
    "accelerator": "GPU",
    "colab": {
      "provenance": [],
      "machine_shape": "hm",
      "gpuType": "A100",
      "mount_file_id": "16zuk33Db4OWQZXGWsMvPA6KX5hwMsxlD",
      "authorship_tag": "ABX9TyM5179oG8x5yFokgVHmQPuC",
      "include_colab_link": true
    },
    "kernelspec": {
      "display_name": "Python 3",
      "name": "python3"
    },
    "language_info": {
      "name": "python"
    }
  },
  "nbformat": 4,
  "nbformat_minor": 0
}