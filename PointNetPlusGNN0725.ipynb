{
  "nbformat": 4,
  "nbformat_minor": 0,
  "metadata": {
    "colab": {
      "provenance": [],
      "gpuType": "T4",
      "mount_file_id": "1YS6InuGxkwy34qzAEjLmbtykHDPkRTO-",
      "authorship_tag": "ABX9TyNfNjwBumNcCHvK8Ddg2AA3",
      "include_colab_link": true
    },
    "kernelspec": {
      "name": "python3",
      "display_name": "Python 3"
    },
    "language_info": {
      "name": "python"
    },
    "accelerator": "GPU"
  },
  "cells": [
    {
      "cell_type": "markdown",
      "metadata": {
        "id": "view-in-github",
        "colab_type": "text"
      },
      "source": [
        "<a href=\"https://colab.research.google.com/github/JY522IC/PointCloudProject/blob/main/PointNetPlusGNN0725.ipynb\" target=\"_parent\"><img src=\"https://colab.research.google.com/assets/colab-badge.svg\" alt=\"Open In Colab\"/></a>"
      ]
    },
    {
      "cell_type": "markdown",
      "source": [
        "## Install the required library"
      ],
      "metadata": {
        "id": "oSkA4kxEcrqm"
      }
    },
    {
      "cell_type": "code",
      "execution_count": null,
      "metadata": {
        "colab": {
          "base_uri": "https://localhost:8080/"
        },
        "id": "B0IWLTWwy-X8",
        "outputId": "af9a0591-7e1d-42ac-cb76-4cc969170d13"
      },
      "outputs": [
        {
          "output_type": "stream",
          "name": "stdout",
          "text": [
            "Collecting open3d\n",
            "  Downloading open3d-0.17.0-cp310-cp310-manylinux_2_27_x86_64.whl (420.5 MB)\n",
            "\u001b[2K     \u001b[90m━━━━━━━━━━━━━━━━━━━━━━━━━━━━━━━━━━━━━━━\u001b[0m \u001b[32m420.5/420.5 MB\u001b[0m \u001b[31m2.5 MB/s\u001b[0m eta \u001b[36m0:00:00\u001b[0m\n",
            "\u001b[?25hRequirement already satisfied: numpy>=1.18.0 in /usr/local/lib/python3.10/dist-packages (from open3d) (1.22.4)\n",
            "Collecting dash>=2.6.0 (from open3d)\n",
            "  Downloading dash-2.11.1-py3-none-any.whl (10.4 MB)\n",
            "\u001b[2K     \u001b[90m━━━━━━━━━━━━━━━━━━━━━━━━━━━━━━━━━━━━━━━━\u001b[0m \u001b[32m10.4/10.4 MB\u001b[0m \u001b[31m76.0 MB/s\u001b[0m eta \u001b[36m0:00:00\u001b[0m\n",
            "\u001b[?25hRequirement already satisfied: werkzeug>=2.2.3 in /usr/local/lib/python3.10/dist-packages (from open3d) (2.3.6)\n",
            "Collecting nbformat==5.7.0 (from open3d)\n",
            "  Downloading nbformat-5.7.0-py3-none-any.whl (77 kB)\n",
            "\u001b[2K     \u001b[90m━━━━━━━━━━━━━━━━━━━━━━━━━━━━━━━━━━━━━━━━\u001b[0m \u001b[32m77.1/77.1 kB\u001b[0m \u001b[31m9.1 MB/s\u001b[0m eta \u001b[36m0:00:00\u001b[0m\n",
            "\u001b[?25hCollecting configargparse (from open3d)\n",
            "  Downloading ConfigArgParse-1.7-py3-none-any.whl (25 kB)\n",
            "Collecting ipywidgets>=8.0.4 (from open3d)\n",
            "  Downloading ipywidgets-8.0.7-py3-none-any.whl (138 kB)\n",
            "\u001b[2K     \u001b[90m━━━━━━━━━━━━━━━━━━━━━━━━━━━━━━━━━━━━━━\u001b[0m \u001b[32m138.3/138.3 kB\u001b[0m \u001b[31m10.8 MB/s\u001b[0m eta \u001b[36m0:00:00\u001b[0m\n",
            "\u001b[?25hCollecting addict (from open3d)\n",
            "  Downloading addict-2.4.0-py3-none-any.whl (3.8 kB)\n",
            "Requirement already satisfied: pillow>=9.3.0 in /usr/local/lib/python3.10/dist-packages (from open3d) (9.4.0)\n",
            "Requirement already satisfied: matplotlib>=3 in /usr/local/lib/python3.10/dist-packages (from open3d) (3.7.1)\n",
            "Requirement already satisfied: pandas>=1.0 in /usr/local/lib/python3.10/dist-packages (from open3d) (1.5.3)\n",
            "Requirement already satisfied: pyyaml>=5.4.1 in /usr/local/lib/python3.10/dist-packages (from open3d) (6.0.1)\n",
            "Requirement already satisfied: scikit-learn>=0.21 in /usr/local/lib/python3.10/dist-packages (from open3d) (1.2.2)\n",
            "Requirement already satisfied: tqdm in /usr/local/lib/python3.10/dist-packages (from open3d) (4.65.0)\n",
            "Collecting pyquaternion (from open3d)\n",
            "  Downloading pyquaternion-0.9.9-py3-none-any.whl (14 kB)\n",
            "Requirement already satisfied: fastjsonschema in /usr/local/lib/python3.10/dist-packages (from nbformat==5.7.0->open3d) (2.18.0)\n",
            "Requirement already satisfied: jsonschema>=2.6 in /usr/local/lib/python3.10/dist-packages (from nbformat==5.7.0->open3d) (4.3.3)\n",
            "Requirement already satisfied: jupyter-core in /usr/local/lib/python3.10/dist-packages (from nbformat==5.7.0->open3d) (5.3.1)\n",
            "Requirement already satisfied: traitlets>=5.1 in /usr/local/lib/python3.10/dist-packages (from nbformat==5.7.0->open3d) (5.7.1)\n",
            "Requirement already satisfied: Flask<2.3.0,>=1.0.4 in /usr/local/lib/python3.10/dist-packages (from dash>=2.6.0->open3d) (2.2.5)\n",
            "Collecting werkzeug>=2.2.3 (from open3d)\n",
            "  Downloading Werkzeug-2.2.3-py3-none-any.whl (233 kB)\n",
            "\u001b[2K     \u001b[90m━━━━━━━━━━━━━━━━━━━━━━━━━━━━━━━━━━━━━━\u001b[0m \u001b[32m233.6/233.6 kB\u001b[0m \u001b[31m23.6 MB/s\u001b[0m eta \u001b[36m0:00:00\u001b[0m\n",
            "\u001b[?25hRequirement already satisfied: plotly>=5.0.0 in /usr/local/lib/python3.10/dist-packages (from dash>=2.6.0->open3d) (5.13.1)\n",
            "Collecting dash-html-components==2.0.0 (from dash>=2.6.0->open3d)\n",
            "  Downloading dash_html_components-2.0.0-py3-none-any.whl (4.1 kB)\n",
            "Collecting dash-core-components==2.0.0 (from dash>=2.6.0->open3d)\n",
            "  Downloading dash_core_components-2.0.0-py3-none-any.whl (3.8 kB)\n",
            "Collecting dash-table==5.0.0 (from dash>=2.6.0->open3d)\n",
            "  Downloading dash_table-5.0.0-py3-none-any.whl (3.9 kB)\n",
            "Requirement already satisfied: typing-extensions>=4.1.1 in /usr/local/lib/python3.10/dist-packages (from dash>=2.6.0->open3d) (4.7.1)\n",
            "Requirement already satisfied: requests in /usr/local/lib/python3.10/dist-packages (from dash>=2.6.0->open3d) (2.27.1)\n",
            "Collecting retrying (from dash>=2.6.0->open3d)\n",
            "  Downloading retrying-1.3.4-py3-none-any.whl (11 kB)\n",
            "Collecting ansi2html (from dash>=2.6.0->open3d)\n",
            "  Downloading ansi2html-1.8.0-py3-none-any.whl (16 kB)\n",
            "Requirement already satisfied: nest-asyncio in /usr/local/lib/python3.10/dist-packages (from dash>=2.6.0->open3d) (1.5.6)\n",
            "Requirement already satisfied: ipykernel>=4.5.1 in /usr/local/lib/python3.10/dist-packages (from ipywidgets>=8.0.4->open3d) (5.5.6)\n",
            "Requirement already satisfied: ipython>=6.1.0 in /usr/local/lib/python3.10/dist-packages (from ipywidgets>=8.0.4->open3d) (7.34.0)\n",
            "Collecting widgetsnbextension~=4.0.7 (from ipywidgets>=8.0.4->open3d)\n",
            "  Downloading widgetsnbextension-4.0.8-py3-none-any.whl (2.3 MB)\n",
            "\u001b[2K     \u001b[90m━━━━━━━━━━━━━━━━━━━━━━━━━━━━━━━━━━━━━━━━\u001b[0m \u001b[32m2.3/2.3 MB\u001b[0m \u001b[31m30.0 MB/s\u001b[0m eta \u001b[36m0:00:00\u001b[0m\n",
            "\u001b[?25hRequirement already satisfied: jupyterlab-widgets~=3.0.7 in /usr/local/lib/python3.10/dist-packages (from ipywidgets>=8.0.4->open3d) (3.0.8)\n",
            "Requirement already satisfied: contourpy>=1.0.1 in /usr/local/lib/python3.10/dist-packages (from matplotlib>=3->open3d) (1.1.0)\n",
            "Requirement already satisfied: cycler>=0.10 in /usr/local/lib/python3.10/dist-packages (from matplotlib>=3->open3d) (0.11.0)\n",
            "Requirement already satisfied: fonttools>=4.22.0 in /usr/local/lib/python3.10/dist-packages (from matplotlib>=3->open3d) (4.41.1)\n",
            "Requirement already satisfied: kiwisolver>=1.0.1 in /usr/local/lib/python3.10/dist-packages (from matplotlib>=3->open3d) (1.4.4)\n",
            "Requirement already satisfied: packaging>=20.0 in /usr/local/lib/python3.10/dist-packages (from matplotlib>=3->open3d) (23.1)\n",
            "Requirement already satisfied: pyparsing>=2.3.1 in /usr/local/lib/python3.10/dist-packages (from matplotlib>=3->open3d) (3.1.0)\n",
            "Requirement already satisfied: python-dateutil>=2.7 in /usr/local/lib/python3.10/dist-packages (from matplotlib>=3->open3d) (2.8.2)\n",
            "Requirement already satisfied: pytz>=2020.1 in /usr/local/lib/python3.10/dist-packages (from pandas>=1.0->open3d) (2022.7.1)\n",
            "Requirement already satisfied: scipy>=1.3.2 in /usr/local/lib/python3.10/dist-packages (from scikit-learn>=0.21->open3d) (1.10.1)\n",
            "Requirement already satisfied: joblib>=1.1.1 in /usr/local/lib/python3.10/dist-packages (from scikit-learn>=0.21->open3d) (1.3.1)\n",
            "Requirement already satisfied: threadpoolctl>=2.0.0 in /usr/local/lib/python3.10/dist-packages (from scikit-learn>=0.21->open3d) (3.2.0)\n",
            "Requirement already satisfied: MarkupSafe>=2.1.1 in /usr/local/lib/python3.10/dist-packages (from werkzeug>=2.2.3->open3d) (2.1.3)\n",
            "Requirement already satisfied: Jinja2>=3.0 in /usr/local/lib/python3.10/dist-packages (from Flask<2.3.0,>=1.0.4->dash>=2.6.0->open3d) (3.1.2)\n",
            "Requirement already satisfied: itsdangerous>=2.0 in /usr/local/lib/python3.10/dist-packages (from Flask<2.3.0,>=1.0.4->dash>=2.6.0->open3d) (2.1.2)\n",
            "Requirement already satisfied: click>=8.0 in /usr/local/lib/python3.10/dist-packages (from Flask<2.3.0,>=1.0.4->dash>=2.6.0->open3d) (8.1.6)\n",
            "Requirement already satisfied: ipython-genutils in /usr/local/lib/python3.10/dist-packages (from ipykernel>=4.5.1->ipywidgets>=8.0.4->open3d) (0.2.0)\n",
            "Requirement already satisfied: jupyter-client in /usr/local/lib/python3.10/dist-packages (from ipykernel>=4.5.1->ipywidgets>=8.0.4->open3d) (6.1.12)\n",
            "Requirement already satisfied: tornado>=4.2 in /usr/local/lib/python3.10/dist-packages (from ipykernel>=4.5.1->ipywidgets>=8.0.4->open3d) (6.3.1)\n",
            "Requirement already satisfied: setuptools>=18.5 in /usr/local/lib/python3.10/dist-packages (from ipython>=6.1.0->ipywidgets>=8.0.4->open3d) (67.7.2)\n",
            "Collecting jedi>=0.16 (from ipython>=6.1.0->ipywidgets>=8.0.4->open3d)\n",
            "  Downloading jedi-0.18.2-py2.py3-none-any.whl (1.6 MB)\n",
            "\u001b[2K     \u001b[90m━━━━━━━━━━━━━━━━━━━━━━━━━━━━━━━━━━━━━━━━\u001b[0m \u001b[32m1.6/1.6 MB\u001b[0m \u001b[31m37.9 MB/s\u001b[0m eta \u001b[36m0:00:00\u001b[0m\n",
            "\u001b[?25hRequirement already satisfied: decorator in /usr/local/lib/python3.10/dist-packages (from ipython>=6.1.0->ipywidgets>=8.0.4->open3d) (4.4.2)\n",
            "Requirement already satisfied: pickleshare in /usr/local/lib/python3.10/dist-packages (from ipython>=6.1.0->ipywidgets>=8.0.4->open3d) (0.7.5)\n",
            "Requirement already satisfied: prompt-toolkit!=3.0.0,!=3.0.1,<3.1.0,>=2.0.0 in /usr/local/lib/python3.10/dist-packages (from ipython>=6.1.0->ipywidgets>=8.0.4->open3d) (3.0.39)\n",
            "Requirement already satisfied: pygments in /usr/local/lib/python3.10/dist-packages (from ipython>=6.1.0->ipywidgets>=8.0.4->open3d) (2.14.0)\n",
            "Requirement already satisfied: backcall in /usr/local/lib/python3.10/dist-packages (from ipython>=6.1.0->ipywidgets>=8.0.4->open3d) (0.2.0)\n",
            "Requirement already satisfied: matplotlib-inline in /usr/local/lib/python3.10/dist-packages (from ipython>=6.1.0->ipywidgets>=8.0.4->open3d) (0.1.6)\n",
            "Requirement already satisfied: pexpect>4.3 in /usr/local/lib/python3.10/dist-packages (from ipython>=6.1.0->ipywidgets>=8.0.4->open3d) (4.8.0)\n",
            "Requirement already satisfied: attrs>=17.4.0 in /usr/local/lib/python3.10/dist-packages (from jsonschema>=2.6->nbformat==5.7.0->open3d) (23.1.0)\n",
            "Requirement already satisfied: pyrsistent!=0.17.0,!=0.17.1,!=0.17.2,>=0.14.0 in /usr/local/lib/python3.10/dist-packages (from jsonschema>=2.6->nbformat==5.7.0->open3d) (0.19.3)\n",
            "Requirement already satisfied: tenacity>=6.2.0 in /usr/local/lib/python3.10/dist-packages (from plotly>=5.0.0->dash>=2.6.0->open3d) (8.2.2)\n",
            "Requirement already satisfied: six>=1.5 in /usr/local/lib/python3.10/dist-packages (from python-dateutil>=2.7->matplotlib>=3->open3d) (1.16.0)\n",
            "Requirement already satisfied: platformdirs>=2.5 in /usr/local/lib/python3.10/dist-packages (from jupyter-core->nbformat==5.7.0->open3d) (3.9.1)\n",
            "Requirement already satisfied: urllib3<1.27,>=1.21.1 in /usr/local/lib/python3.10/dist-packages (from requests->dash>=2.6.0->open3d) (1.26.16)\n",
            "Requirement already satisfied: certifi>=2017.4.17 in /usr/local/lib/python3.10/dist-packages (from requests->dash>=2.6.0->open3d) (2023.7.22)\n",
            "Requirement already satisfied: charset-normalizer~=2.0.0 in /usr/local/lib/python3.10/dist-packages (from requests->dash>=2.6.0->open3d) (2.0.12)\n",
            "Requirement already satisfied: idna<4,>=2.5 in /usr/local/lib/python3.10/dist-packages (from requests->dash>=2.6.0->open3d) (3.4)\n",
            "Requirement already satisfied: parso<0.9.0,>=0.8.0 in /usr/local/lib/python3.10/dist-packages (from jedi>=0.16->ipython>=6.1.0->ipywidgets>=8.0.4->open3d) (0.8.3)\n",
            "Requirement already satisfied: ptyprocess>=0.5 in /usr/local/lib/python3.10/dist-packages (from pexpect>4.3->ipython>=6.1.0->ipywidgets>=8.0.4->open3d) (0.7.0)\n",
            "Requirement already satisfied: wcwidth in /usr/local/lib/python3.10/dist-packages (from prompt-toolkit!=3.0.0,!=3.0.1,<3.1.0,>=2.0.0->ipython>=6.1.0->ipywidgets>=8.0.4->open3d) (0.2.6)\n",
            "Requirement already satisfied: pyzmq>=13 in /usr/local/lib/python3.10/dist-packages (from jupyter-client->ipykernel>=4.5.1->ipywidgets>=8.0.4->open3d) (23.2.1)\n",
            "Installing collected packages: dash-table, dash-html-components, dash-core-components, addict, widgetsnbextension, werkzeug, retrying, pyquaternion, jedi, configargparse, ansi2html, nbformat, dash, ipywidgets, open3d\n",
            "  Attempting uninstall: widgetsnbextension\n",
            "    Found existing installation: widgetsnbextension 3.6.4\n",
            "    Uninstalling widgetsnbextension-3.6.4:\n",
            "      Successfully uninstalled widgetsnbextension-3.6.4\n",
            "  Attempting uninstall: werkzeug\n",
            "    Found existing installation: Werkzeug 2.3.6\n",
            "    Uninstalling Werkzeug-2.3.6:\n",
            "      Successfully uninstalled Werkzeug-2.3.6\n",
            "  Attempting uninstall: nbformat\n",
            "    Found existing installation: nbformat 5.9.1\n",
            "    Uninstalling nbformat-5.9.1:\n",
            "      Successfully uninstalled nbformat-5.9.1\n",
            "  Attempting uninstall: ipywidgets\n",
            "    Found existing installation: ipywidgets 7.7.1\n",
            "    Uninstalling ipywidgets-7.7.1:\n",
            "      Successfully uninstalled ipywidgets-7.7.1\n",
            "Successfully installed addict-2.4.0 ansi2html-1.8.0 configargparse-1.7 dash-2.11.1 dash-core-components-2.0.0 dash-html-components-2.0.0 dash-table-5.0.0 ipywidgets-8.0.7 jedi-0.18.2 nbformat-5.7.0 open3d-0.17.0 pyquaternion-0.9.9 retrying-1.3.4 werkzeug-2.2.3 widgetsnbextension-4.0.8\n",
            "Collecting provider\n",
            "  Downloading provider-0.11.0-py3-none-any.whl (33 kB)\n",
            "Collecting boto3<2.0.0,>=1.26.82 (from provider)\n",
            "  Downloading boto3-1.28.12-py3-none-any.whl (135 kB)\n",
            "\u001b[2K     \u001b[90m━━━━━━━━━━━━━━━━━━━━━━━━━━━━━━━━━━━━━━━\u001b[0m \u001b[32m135.8/135.8 kB\u001b[0m \u001b[31m5.4 MB/s\u001b[0m eta \u001b[36m0:00:00\u001b[0m\n",
            "\u001b[?25hRequirement already satisfied: click<9.0.0,>=8.1.3 in /usr/local/lib/python3.10/dist-packages (from provider) (8.1.6)\n",
            "Collecting common-fate-schema<0.8.0,>=0.7.0 (from provider)\n",
            "  Downloading common_fate_schema-0.7.0-py3-none-any.whl (5.3 kB)\n",
            "Requirement already satisfied: pydantic<2.0.0,>=1.10.5 in /usr/local/lib/python3.10/dist-packages (from provider) (1.10.11)\n",
            "Requirement already satisfied: toml==0.10.2 in /usr/local/lib/python3.10/dist-packages (from provider) (0.10.2)\n",
            "Requirement already satisfied: typing-extensions<5.0.0,>=4.5.0 in /usr/local/lib/python3.10/dist-packages (from provider) (4.7.1)\n",
            "Collecting botocore<1.32.0,>=1.31.12 (from boto3<2.0.0,>=1.26.82->provider)\n",
            "  Downloading botocore-1.31.12-py3-none-any.whl (11.0 MB)\n",
            "\u001b[2K     \u001b[90m━━━━━━━━━━━━━━━━━━━━━━━━━━━━━━━━━━━━━━━━\u001b[0m \u001b[32m11.0/11.0 MB\u001b[0m \u001b[31m98.8 MB/s\u001b[0m eta \u001b[36m0:00:00\u001b[0m\n",
            "\u001b[?25hCollecting jmespath<2.0.0,>=0.7.1 (from boto3<2.0.0,>=1.26.82->provider)\n",
            "  Downloading jmespath-1.0.1-py3-none-any.whl (20 kB)\n",
            "Collecting s3transfer<0.7.0,>=0.6.0 (from boto3<2.0.0,>=1.26.82->provider)\n",
            "  Downloading s3transfer-0.6.1-py3-none-any.whl (79 kB)\n",
            "\u001b[2K     \u001b[90m━━━━━━━━━━━━━━━━━━━━━━━━━━━━━━━━━━━━━━━━\u001b[0m \u001b[32m79.8/79.8 kB\u001b[0m \u001b[31m10.7 MB/s\u001b[0m eta \u001b[36m0:00:00\u001b[0m\n",
            "\u001b[?25hRequirement already satisfied: python-dateutil<3.0.0,>=2.1 in /usr/local/lib/python3.10/dist-packages (from botocore<1.32.0,>=1.31.12->boto3<2.0.0,>=1.26.82->provider) (2.8.2)\n",
            "Requirement already satisfied: urllib3<1.27,>=1.25.4 in /usr/local/lib/python3.10/dist-packages (from botocore<1.32.0,>=1.31.12->boto3<2.0.0,>=1.26.82->provider) (1.26.16)\n",
            "Requirement already satisfied: six>=1.5 in /usr/local/lib/python3.10/dist-packages (from python-dateutil<3.0.0,>=2.1->botocore<1.32.0,>=1.31.12->boto3<2.0.0,>=1.26.82->provider) (1.16.0)\n",
            "Installing collected packages: jmespath, common-fate-schema, botocore, s3transfer, boto3, provider\n",
            "Successfully installed boto3-1.28.12 botocore-1.31.12 common-fate-schema-0.7.0 jmespath-1.0.1 provider-0.11.0 s3transfer-0.6.1\n",
            "2.0.1+cu118\n",
            "\u001b[2K     \u001b[90m━━━━━━━━━━━━━━━━━━━━━━━━━━━━━━━━━━━━━━━━\u001b[0m \u001b[32m10.2/10.2 MB\u001b[0m \u001b[31m70.5 MB/s\u001b[0m eta \u001b[36m0:00:00\u001b[0m\n",
            "\u001b[2K     \u001b[90m━━━━━━━━━━━━━━━━━━━━━━━━━━━━━━━━━━━━━━━━\u001b[0m \u001b[32m4.8/4.8 MB\u001b[0m \u001b[31m46.9 MB/s\u001b[0m eta \u001b[36m0:00:00\u001b[0m\n",
            "\u001b[2K     \u001b[90m━━━━━━━━━━━━━━━━━━━━━━━━━━━━━━━━━━━━━━━━\u001b[0m \u001b[32m3.3/3.3 MB\u001b[0m \u001b[31m35.1 MB/s\u001b[0m eta \u001b[36m0:00:00\u001b[0m\n",
            "\u001b[?25h  Installing build dependencies ... \u001b[?25l\u001b[?25hdone\n",
            "  Getting requirements to build wheel ... \u001b[?25l\u001b[?25hdone\n",
            "  Preparing metadata (pyproject.toml) ... \u001b[?25l\u001b[?25hdone\n",
            "  Building wheel for torch_geometric (pyproject.toml) ... \u001b[?25l\u001b[?25hdone\n"
          ]
        }
      ],
      "source": [
        "# install the required libraries\n",
        "!pip install open3d\n",
        "!pip install provider\n",
        "\n",
        "# Install required packages.\n",
        "import os\n",
        "import torch\n",
        "os.environ['TORCH'] = torch.__version__\n",
        "print(torch.__version__)\n",
        "\n",
        "!pip install -q torch-scatter -f https://data.pyg.org/whl/torch-${TORCH}.html\n",
        "!pip install -q torch-sparse -f https://data.pyg.org/whl/torch-${TORCH}.html\n",
        "!pip install -q torch-cluster -f https://data.pyg.org/whl/torch-${TORCH}.html\n",
        "!pip install -q git+https://github.com/pyg-team/pytorch_geometric.git\n",
        "\n",
        "# Helper functions for visualization.\n",
        "%matplotlib inline\n",
        "import matplotlib.pyplot as plt\n",
        "from mpl_toolkits.mplot3d import Axes3D\n",
        "\n",
        "def visualize_mesh(pos, face):\n",
        "    fig = plt.figure()\n",
        "    ax = fig.add_subplot(projection='3d')\n",
        "    # ax = fig.gca(projection='3d')\n",
        "    ax.axes.xaxis.set_ticklabels([])\n",
        "    ax.axes.yaxis.set_ticklabels([])\n",
        "    ax.axes.zaxis.set_ticklabels([])\n",
        "    ax.plot_trisurf(pos[:, 0], pos[:, 1], pos[:, 2], triangles=data.face.t(), antialiased=False)\n",
        "    plt.show()\n",
        "\n",
        "\n",
        "def visualize_points(pos, edge_index=None, index=None):\n",
        "    fig = plt.figure(figsize=(4, 4))\n",
        "    if edge_index is not None:\n",
        "        for (src, dst) in edge_index.t().tolist():\n",
        "             src = pos[src].tolist()\n",
        "             dst = pos[dst].tolist()\n",
        "             plt.plot([src[0], dst[0]], [src[1], dst[1]], linewidth=1, color='black')\n",
        "    if index is None:\n",
        "        plt.scatter(pos[:, 0], pos[:, 1], s=50, zorder=1000)\n",
        "    else:\n",
        "       mask = torch.zeros(pos.size(0), dtype=torch.bool)\n",
        "       mask[index] = True\n",
        "       plt.scatter(pos[~mask, 0], pos[~mask, 1], s=50, color='lightgray', zorder=1000)\n",
        "       plt.scatter(pos[mask, 0], pos[mask, 1], s=50, zorder=1000)\n",
        "    plt.axis('off')\n",
        "    plt.show()"
      ]
    },
    {
      "cell_type": "markdown",
      "source": [
        "Import libraries"
      ],
      "metadata": {
        "id": "vclqTlRKeayc"
      }
    },
    {
      "cell_type": "code",
      "source": [
        "import torch\n",
        "import os\n",
        "import pandas as pd\n",
        "from torch_geometric.data import InMemoryDataset, Data, download_url, extract_zip\n",
        "from torch_geometric.utils.convert import to_networkx\n",
        "import networkx as nx\n",
        "from tqdm import tqdm\n",
        "import open3d as o3d\n",
        "import numpy as np"
      ],
      "metadata": {
        "id": "ussuwDf6ecxS"
      },
      "execution_count": null,
      "outputs": []
    },
    {
      "cell_type": "markdown",
      "source": [
        "The function to acquire the labels information"
      ],
      "metadata": {
        "id": "d2F9IJl3edqD"
      }
    },
    {
      "cell_type": "code",
      "source": [
        "# input the file path and return the data of all labels\n",
        "def loadData(path):\n",
        "    # Load the pcd file\n",
        "    pcd = o3d.io.read_point_cloud(path)\n",
        "\n",
        "    # Control the number of points in the point cloud file\n",
        "    downpcd_farthest = pcd.farthest_point_down_sample(5000)\n",
        "\n",
        "    point_xyz = np.asarray(downpcd_farthest.points)\n",
        "    color_rgb = np.asarray(downpcd_farthest.colors)\n",
        "\n",
        "    return point_xyz,color_rgb"
      ],
      "metadata": {
        "id": "fWo_pRHXhc5V"
      },
      "execution_count": null,
      "outputs": []
    },
    {
      "cell_type": "code",
      "source": [
        "def pc_normalize(pc):\n",
        "    \"\"\"\n",
        "    Point data normilization\n",
        "    :param pc: the pc to normilized\n",
        "    :return: the point data after normilization\n",
        "    \"\"\"\n",
        "    # the average value\n",
        "    centroid = np.mean(pc, axis=0)\n",
        "    pc = pc - centroid\n",
        "    m = np.max(np.sqrt(np.sum(pc ** 2, axis=1)))\n",
        "    # rescale\n",
        "    pc = pc / m\n",
        "    return pc"
      ],
      "metadata": {
        "id": "2wMEsvCzMOJi"
      },
      "execution_count": null,
      "outputs": []
    },
    {
      "cell_type": "markdown",
      "source": [
        "Create dataset based on pytorch geometry"
      ],
      "metadata": {
        "id": "t6jFXZXHqLD2"
      }
    },
    {
      "cell_type": "code",
      "source": [
        "class Operating_room_classification(InMemoryDataset):\n",
        "\n",
        "    # Base url to download the files\n",
        "    # url = 'http://nrvis.com/download/data/labeled/FRANKENSTEIN.zip'\n",
        "\n",
        "    def __init__(self, root, transform=None, pre_transform=None):\n",
        "        super(Operating_room_classification, self).__init__(root, transform, pre_transform)\n",
        "        self.data, self.slices = torch.load(self.processed_paths[0])\n",
        "\n",
        "    @property\n",
        "    def raw_file_names(self):\n",
        "        # List of the raw files\n",
        "        return []\n",
        "\n",
        "    @property\n",
        "    def processed_file_names(self):\n",
        "        # return list of files should be in processed dir, if found - skip processing\n",
        "        return ['data.pt']\n",
        "\n",
        "    # def download(self):\n",
        "    #     # Download the file specified in self.url and store\n",
        "    #     # it in self.raw_dir\n",
        "    #     path = download_url(self.url, self.raw_dir)\n",
        "    #     extract_zip(path, self.raw_dir)\n",
        "    #     # The zip file is removed\n",
        "    #     os.unlink(path)\n",
        "\n",
        "\n",
        "    def process(self):\n",
        "\n",
        "      if State == 1:\n",
        "        df = train_index\n",
        "      else:\n",
        "        df = test_index\n",
        "\n",
        "      # In the loop we extract the nodes' embeddings, edges connectivity for\n",
        "      # and label for a graph, process the information and put it in a Data\n",
        "      # object, then we add the object to a list\n",
        "      data_list = []\n",
        "      root_new = '/content/drive/MyDrive/Colab Notebooks/Pointnet 0428/Down20000 4'\n",
        "\n",
        "      for index, row in df.iterrows():\n",
        "\n",
        "        file_path = os.path.join(root_new, row[1])\n",
        "        # print(file_path)\n",
        "        if os.access(file_path, os.F_OK):\n",
        "\n",
        "          # print(row[1])\n",
        "          # load the data\n",
        "          point_pos,color_rgb = loadData(file_path)\n",
        "\n",
        "          # Normilize the data\n",
        "          new_points = pc_normalize(point_pos)\n",
        "\n",
        "          # Calculate the normal information\n",
        "          device = o3d.core.Device(\"CPU:0\")\n",
        "          dtype = o3d.core.float64\n",
        "          pcd = o3d.t.geometry.PointCloud(device)\n",
        "          pcd.point.positions = o3d.core.Tensor(new_points, dtype, device)\n",
        "          pcd = pcd.to_legacy()\n",
        "          radius = 0.01  # Searching Radius\n",
        "          max_nn = 30  # Number of neighboring points to estimate normal vector\n",
        "          pcd.estimate_normals(search_param=o3d.geometry.KDTreeSearchParamHybrid(radius, max_nn))\n",
        "\n",
        "          # Convert the position and label information into the Pytorch format\n",
        "          Pos = torch.tensor(new_points,dtype=torch.float32)\n",
        "          Y = torch.tensor(row[2],dtype=torch.long)\n",
        "          Normals = torch.tensor(np.asarray(pcd.normals),dtype=torch.float32)\n",
        "          Colors = torch.tensor(color_rgb,dtype=torch.float32)\n",
        "\n",
        "          # Save the data\n",
        "          graph = Data(pos = Pos, y = Y, normal = Normals, color = Colors)\n",
        "          data_list.append(graph)\n",
        "        else:\n",
        "          pass\n",
        "\n",
        "        # print(index)\n",
        "\n",
        "      # Apply the functions specified in pre_filter and pre_transform\n",
        "      if self.pre_filter is not None:\n",
        "          data_list = [data for data in data_list if self.pre_filter(data)]\n",
        "\n",
        "      if self.pre_transform is not None:\n",
        "          data_list = [self.pre_transform(data) for data in data_list]\n",
        "\n",
        "      # Store the processed data\n",
        "      data, slices = self.collate(data_list)\n",
        "      torch.save((data, slices), self.processed_paths[0])"
      ],
      "metadata": {
        "id": "tlKcUFyNqOO6"
      },
      "execution_count": null,
      "outputs": []
    },
    {
      "cell_type": "markdown",
      "source": [
        "Create the dataset"
      ],
      "metadata": {
        "id": "wxYtJRFr2Oob"
      }
    },
    {
      "cell_type": "code",
      "source": [
        "import torch_geometric.transforms as T\n",
        "# load data\n",
        "df = pd.read_csv(r'/content/drive/MyDrive/Colab Notebooks/Pointnet 0428/Two Class Down20000 4 with label.csv')\n",
        "train_index=df.sample(frac=0.7)\n",
        "test_index=df[~df.index.isin(train_index.index)]"
      ],
      "metadata": {
        "id": "18CKg4v1LToO"
      },
      "execution_count": null,
      "outputs": []
    },
    {
      "cell_type": "code",
      "source": [
        "import torch_geometric.transforms as T\n",
        "\n",
        "# Create the train and test dataset based on the direction\n",
        "State = 1\n",
        "trainDataset = Operating_room_classification(root='/content/drive/MyDrive/Colab Notebooks/Pointnet 0428/PaperResult0725/TwoClass/Dataset/Train')\n",
        "State = 2\n",
        "testDataset = Operating_room_classification(root='/content/drive/MyDrive/Colab Notebooks/Pointnet 0428/PaperResult0725/TwoClass/Dataset/Test')"
      ],
      "metadata": {
        "id": "dnXPmYTcglck"
      },
      "execution_count": null,
      "outputs": []
    },
    {
      "cell_type": "markdown",
      "source": [
        "## Pointnet Classification"
      ],
      "metadata": {
        "id": "tQv-4YhhrHEm"
      }
    },
    {
      "cell_type": "markdown",
      "source": [
        "Pointnet Layer"
      ],
      "metadata": {
        "id": "fZx2iTRjtJ7E"
      }
    },
    {
      "cell_type": "code",
      "source": [
        "# Pointnet layer\n",
        "from torch.nn import Sequential, Linear, ReLU\n",
        "from torch_geometric.nn import MessagePassing\n",
        "\n",
        "\n",
        "class PointNetLayer(MessagePassing):\n",
        "    def __init__(self, in_channels, out_channels):\n",
        "        # Message passing with \"max\" aggregation.\n",
        "        super().__init__(aggr='max')\n",
        "\n",
        "        # Initialization of the MLP:\n",
        "        # Here, the number of input features correspond to the hidden node\n",
        "        # dimensionality plus point dimensionality (=3).\n",
        "        self.mlp = Sequential(Linear(in_channels+3, out_channels),\n",
        "                              ReLU(),\n",
        "                              Linear(out_channels, out_channels))\n",
        "\n",
        "    def forward(self, h, pos, edge_index):\n",
        "        # Start propagating messages.\n",
        "        return self.propagate(edge_index, h=h, pos=pos)\n",
        "\n",
        "    def message(self, h_j, pos_j, pos_i):\n",
        "        # h_j defines the features of neighboring nodes as shape [num_edges, in_channels]\n",
        "        # pos_j defines the position of neighboring nodes as shape [num_edges, 3]\n",
        "        # pos_i defines the position of central nodes as shape [num_edges, 3]\n",
        "\n",
        "        input = pos_j - pos_i  # Compute spatial relation.\n",
        "        input = input.to(torch.float32)\n",
        "\n",
        "        if h_j is not None:\n",
        "            # In the first layer, we may not have any hidden node features,\n",
        "            # so we only combine them in case they are present.\n",
        "            input = torch.cat([h_j, input], dim=-1)\n",
        "\n",
        "        return self.mlp(input)  # Apply our final MLP."
      ],
      "metadata": {
        "id": "AgqqI20HrMsC"
      },
      "execution_count": null,
      "outputs": []
    },
    {
      "cell_type": "markdown",
      "source": [
        "Main Network Model"
      ],
      "metadata": {
        "id": "vlzEz9FotNgI"
      }
    },
    {
      "cell_type": "code",
      "source": [
        "from torch_geometric.nn.conv import edge_conv\n",
        "import torch\n",
        "import torch.nn.functional as F\n",
        "from torch_cluster import knn_graph\n",
        "from torch_geometric.nn import global_max_pool\n",
        "\n",
        "class PointNet(torch.nn.Module):\n",
        "    def __init__(self, channel):\n",
        "        super().__init__()\n",
        "\n",
        "        torch.manual_seed(12345)\n",
        "        self.conv1 = PointNetLayer(channel*3, 32)\n",
        "        self.conv2 = PointNetLayer(32, 32)\n",
        "        self.classifier = Linear(32, trainDataset.num_classes)\n",
        "\n",
        "    def forward(self, pos, batch, channel, data):\n",
        "        # Compute the kNN graph:\n",
        "        # Here, we need to pass the batch vector to the function call in order\n",
        "        # to prevent creating edges between points of different examples.\n",
        "        # We also add `loop=True` which will add self-loops to the graph in\n",
        "        # order to preserve central point information.\n",
        "        edge_index = knn_graph(pos, k=16, batch=batch, loop=True)\n",
        "        # print(edge_index)\n",
        "        # print(edge_index.shape)\n",
        "        # print(edge_index.type)\n",
        "\n",
        "\n",
        "        if channel == 2:\n",
        "          points = data.pos\n",
        "          points = np.asarray(points)\n",
        "          normal = data.normal\n",
        "\n",
        "          # points = np.reshape(points,[int(np.shape(points)[0]/5000),5000,3])\n",
        "          # normal = np.reshape(normal,[int(np.shape(normal)[0]/5000),5000,3])\n",
        "          new_points = np.concatenate((points,normal),axis=1)\n",
        "          points = torch.Tensor(new_points)\n",
        "          # points = points.transpose(2, 1)\n",
        "\n",
        "        elif channel == 1:\n",
        "          points = data.pos\n",
        "          points = np.asarray(points)\n",
        "\n",
        "          # points = np.reshape(points,[int(np.shape(points)[0]/5000),5000,3])\n",
        "          points = torch.Tensor(points)\n",
        "          # points = points.transpose(2, 1)\n",
        "        else:\n",
        "          points = data.pos\n",
        "          points = np.asarray(points)\n",
        "          normal = data.normal\n",
        "          color = data.color\n",
        "\n",
        "          # points = np.reshape(points,[int(np.shape(points)[0]/5000),5000,3])\n",
        "          # normal = np.reshape(normal,[int(np.shape(normal)[0]/5000),5000,3])\n",
        "          # color = np.reshape(color,[int(np.shape(normal)[0]/5000),5000,3])\n",
        "\n",
        "          new_points = np.concatenate((points,normal,color),axis=1)\n",
        "          points = torch.Tensor(new_points)\n",
        "          # points = points.transpose(2, 1)\n",
        "\n",
        "        # Start bipartite message passing.\n",
        "        h = self.conv1(h=points, pos=pos, edge_index=edge_index)\n",
        "        h = h.relu()\n",
        "        h = self.conv2(h=h, pos=pos, edge_index=edge_index)\n",
        "        h = h.relu()\n",
        "\n",
        "        # Global Pooling.\n",
        "        h = global_max_pool(h, batch)  # [num_examples, hidden_channels]\n",
        "\n",
        "        # Classifier.\n",
        "        return self.classifier(h)\n",
        "\n",
        "# # Show the network structure\n",
        "# model = PointNet()\n",
        "# print(model)"
      ],
      "metadata": {
        "id": "FRUBqk1gtTll"
      },
      "execution_count": null,
      "outputs": []
    },
    {
      "cell_type": "markdown",
      "source": [
        "Train and test structure"
      ],
      "metadata": {
        "id": "QCFq-LNdtUQh"
      }
    },
    {
      "cell_type": "code",
      "source": [
        "from IPython.display import Javascript  # Restrict height of output cell.\n",
        "display(Javascript('''google.colab.output.setIframeHeight(0, true, {maxHeight: 300})'''))\n",
        "\n",
        "from torch_geometric.loader import DataLoader\n",
        "import os\n",
        "import sys\n",
        "import torch\n",
        "import numpy as np\n",
        "\n",
        "import datetime\n",
        "import logging\n",
        "import provider\n",
        "import importlib\n",
        "import shutil\n",
        "import argparse\n",
        "\n",
        "from pathlib import Path\n",
        "from tqdm import tqdm\n",
        "from IPython.display import Javascript  # Restrict height of output cell.\n",
        "display(Javascript('''google.colab.output.setIframeHeight(0, true, {maxHeight: 300})'''))\n",
        "from sklearn.utils.class_weight import compute_sample_weight\n",
        "from torch_geometric.loader import DataLoader\n",
        "from torch.utils.data import WeightedRandomSampler\n",
        "\n",
        "# Channel used 1: xyz, 2:xyz,normal, 3:xyz,normal,rgb\n",
        "Channel = 1\n",
        "\n",
        "# Over Sampling the data\n",
        "y_label = np.asarray(trainDataset.data.y)\n",
        "y_weight = compute_sample_weight(class_weight = 'balanced', y = y_label)\n",
        "Sampler = WeightedRandomSampler(y_weight, len(y_label), replacement=True)\n",
        "\n",
        "# Load the dataset using Pytorch\n",
        "train_loader = DataLoader(trainDataset, batch_size=20, sampler = Sampler)\n",
        "test_loader = DataLoader(testDataset, batch_size=10)\n",
        "\n",
        "# Load the Pointnet model\n",
        "model = PointNet(Channel)\n",
        "# Define the optimizer type\n",
        "optimizer = torch.optim.Adam(model.parameters(), lr=0.01)\n",
        "# Define loss criterion.\n",
        "criterion = torch.nn.CrossEntropyLoss()\n",
        "\n",
        "# Define the log\n",
        "def log_string(str):\n",
        "  logger.info(str)\n",
        "  print(str)\n",
        "\n",
        "\n",
        "# log_dir = '/content/drive/MyDrive/Colab Notebooks/Pointnet 0428/LogsCoordinateCalibPointnetPlusGnn/classification/2023-05-15_15-47'\n",
        "log_dir = None\n",
        "model_name = 'PointNetPlusGNNWithoutCoordinateCalibration'\n",
        "\n",
        "'''HYPER PARAMETER'''\n",
        "os.environ[\"CUDA_VISIBLE_DEVICES\"] = '0'\n",
        "\n",
        "'''CREATE DIR'''\n",
        "timestr = str(datetime.datetime.now().strftime('%Y-%m-%d_%H-%M'))\n",
        "if Channel == 1:\n",
        "  exp_dir = Path('/content/drive/MyDrive/Colab Notebooks/Pointnet 0428/PaperResult0725/TwoClass/PointnetPlusGNNThreeChannel')\n",
        "elif Channel ==2:\n",
        "  exp_dir = Path('/content/drive/MyDrive/Colab Notebooks/Pointnet 0428/PaperResult0725/TwoClass/PointnetPlusGNNSixChannel')\n",
        "else:\n",
        "  exp_dir = Path('/content/drive/MyDrive/Colab Notebooks/Pointnet 0428/PaperResult0725/TwoClass/PointnetPlusGNNNineChannel')\n",
        "\n",
        "exp_dir.mkdir(exist_ok=True)\n",
        "exp_dir = exp_dir.joinpath('classification')\n",
        "exp_dir.mkdir(exist_ok=True)\n",
        "\n",
        "if log_dir is None:\n",
        "    exp_dir = exp_dir.joinpath(timestr)\n",
        "else:\n",
        "    exp_dir = exp_dir.joinpath(log_dir)\n",
        "\n",
        "exp_dir.mkdir(exist_ok=True)\n",
        "checkpoints_dir = exp_dir.joinpath('checkpoints/')\n",
        "checkpoints_dir.mkdir(exist_ok=True)\n",
        "log_dir = exp_dir.joinpath('logs/')\n",
        "log_dir.mkdir(exist_ok=True)\n",
        "\n",
        "'''LOG'''\n",
        "logger = logging.getLogger(\"Model\")\n",
        "logger.setLevel(logging.INFO)\n",
        "formatter = logging.Formatter('%(asctime)s - %(name)s - %(levelname)s - %(message)s')\n",
        "file_handler = logging.FileHandler('%s/%s.log' % (log_dir, model_name))\n",
        "file_handler.setLevel(logging.INFO)\n",
        "file_handler.setFormatter(formatter)\n",
        "logger.addHandler(file_handler)\n",
        "log_string('PARAMETER ...')\n",
        "\n",
        "try:\n",
        "    checkpoint = torch.load(str(exp_dir) + '/checkpoints/best_model.pth')\n",
        "    start_epoch = checkpoint['epoch']\n",
        "    model.load_state_dict(checkpoint['model_state_dict'])\n",
        "    log_string('Use pretrain model')\n",
        "except:\n",
        "    log_string('No existing model, starting training from scratch...')\n",
        "    start_epoch = 0\n",
        "\n",
        "# Define the train part\n",
        "def train(model, optimizer, loader, channel):\n",
        "    model.train()\n",
        "\n",
        "    total_loss = 0\n",
        "    total_correct = 0\n",
        "    for data in tqdm(loader,desc='Processing'):\n",
        "      # Clear gradients.\n",
        "      optimizer.zero_grad()\n",
        "      # data.pos = data.pos.to(torch.float32)\n",
        "      # print(data.pos.shape)\n",
        "      # print(data.batch.shape)\n",
        "\n",
        "      # Forward pass.\n",
        "      logits = model(data.pos, data.batch, Channel, data)\n",
        "\n",
        "      # Loss computation.\n",
        "      loss = criterion(logits, data.y)\n",
        "\n",
        "      # Predict Value\n",
        "      pred = logits.argmax(dim=-1)\n",
        "      total_correct += int((pred == data.y).sum())\n",
        "\n",
        "      # Backward pass.\n",
        "      loss.backward()\n",
        "\n",
        "      # Update model parameters.\n",
        "      optimizer.step()\n",
        "\n",
        "      total_loss += loss.item() * data.num_graphs\n",
        "      # print(total_loss)\n",
        "\n",
        "    return total_loss / len(train_loader.dataset), total_correct / len(loader.dataset)\n",
        "\n",
        "# Define the test part\n",
        "@torch.no_grad()\n",
        "def test(model, loader,channel):\n",
        "    # Create the eval\n",
        "    model.eval()\n",
        "\n",
        "    total_correct = 0\n",
        "    for data in loader:\n",
        "\n",
        "      data.pos = data.pos.to(torch.float32)\n",
        "      logits = model(data.pos, data.batch,channel,data)\n",
        "      pred = logits.argmax(dim=-1)\n",
        "      total_correct += int((pred == data.y).sum())\n",
        "\n",
        "    return total_correct / len(loader.dataset)\n",
        "\n",
        "best_instance_acc = 0\n",
        "\n",
        "# Define the main part\n",
        "'''TRANING'''\n",
        "#logger.info('Start training...')\n",
        "for epoch in range(1, 20):\n",
        "    loss,train_acc = train(model, optimizer, train_loader,Channel)\n",
        "    test_acc = test(model, test_loader,Channel)\n",
        "    print(f'Epoch: {epoch:02d}, Loss: {loss:.4f}, Test Accuracy: {test_acc:.4f}, Train Accuracy: {train_acc:.4f}')\n",
        "\n",
        "    if (test_acc >= best_instance_acc):\n",
        "      best_instance_acc = test_acc\n",
        "      best_epoch = epoch + 1\n",
        "\n",
        "    # if (class_acc >= best_class_acc):\n",
        "    #     best_class_acc = class_acc\n",
        "    #log_string('Train Accuracy: %f' % (train_acc))\n",
        "    #log_string('Test Instance Accuracy: %f' % (test_acc))\n",
        "    #log_string('Best Instance Accuracy: %f' % (best_instance_acc))\n",
        "\n",
        "    if (test_acc >= best_instance_acc):\n",
        "      # logger.info('Save model...')\n",
        "      savepath = str(checkpoints_dir) + '/best_model.pth'\n",
        "      # log_string('Saving at %s' % savepath)\n",
        "      state = {\n",
        "          'epoch': best_epoch,\n",
        "          'instance_acc': test_acc,\n",
        "          'model_state_dict': model.state_dict(),\n",
        "          'optimizer_state_dict': optimizer.state_dict(),\n",
        "      }\n",
        "      torch.save(state, savepath)\n",
        "\n",
        "#logger.info('End of training...')\n",
        "\n",
        "# Save the model\n",
        "PATH = '/content/drive/MyDrive/Colab Notebooks/Pointnet 0428/PointnetPlusModel0504.pt'\n",
        "torch.save(model, PATH)\n",
        "\n"
      ],
      "metadata": {
        "id": "yJSuY9ARtW_6",
        "colab": {
          "base_uri": "https://localhost:8080/",
          "height": 300
        },
        "outputId": "94d8c39e-fb95-458c-910a-562757e74c06"
      },
      "execution_count": null,
      "outputs": [
        {
          "output_type": "display_data",
          "data": {
            "text/plain": [
              "<IPython.core.display.Javascript object>"
            ],
            "application/javascript": [
              "google.colab.output.setIframeHeight(0, true, {maxHeight: 300})"
            ]
          },
          "metadata": {}
        },
        {
          "output_type": "display_data",
          "data": {
            "text/plain": [
              "<IPython.core.display.Javascript object>"
            ],
            "application/javascript": [
              "google.colab.output.setIframeHeight(0, true, {maxHeight: 300})"
            ]
          },
          "metadata": {}
        },
        {
          "output_type": "stream",
          "name": "stderr",
          "text": [
            "/usr/local/lib/python3.10/dist-packages/torch_geometric/data/in_memory_dataset.py:189: UserWarning: It is not recommended to directly access the internal storage format `data` of an 'InMemoryDataset'. If you are absolutely certain what you are doing, access the internal storage via `InMemoryDataset._data` instead to suppress this warning. Alternatively, you can access stacked individual attributes of every graph via `dataset.{attr_name}`.\n",
            "  warnings.warn(msg)\n",
            "INFO:Model:PARAMETER ...\n",
            "INFO:Model:No existing model, starting training from scratch...\n"
          ]
        },
        {
          "output_type": "stream",
          "name": "stdout",
          "text": [
            "PARAMETER ...\n",
            "No existing model, starting training from scratch...\n"
          ]
        },
        {
          "output_type": "stream",
          "name": "stderr",
          "text": [
            "Processing: 100%|██████████| 75/75 [07:25<00:00,  5.93s/it]\n"
          ]
        },
        {
          "output_type": "stream",
          "name": "stdout",
          "text": [
            "Epoch: 01, Loss: 0.6432, Test Accuracy: 0.9171, Train Accuracy: 0.6013\n"
          ]
        },
        {
          "output_type": "stream",
          "name": "stderr",
          "text": [
            "Processing: 100%|██████████| 75/75 [07:22<00:00,  5.90s/it]\n"
          ]
        },
        {
          "output_type": "stream",
          "name": "stdout",
          "text": [
            "Epoch: 02, Loss: 0.2327, Test Accuracy: 0.8826, Train Accuracy: 0.9188\n"
          ]
        },
        {
          "output_type": "stream",
          "name": "stderr",
          "text": [
            "Processing: 100%|██████████| 75/75 [07:20<00:00,  5.88s/it]\n"
          ]
        },
        {
          "output_type": "stream",
          "name": "stdout",
          "text": [
            "Epoch: 03, Loss: 0.1942, Test Accuracy: 0.9609, Train Accuracy: 0.9168\n"
          ]
        },
        {
          "output_type": "stream",
          "name": "stderr",
          "text": [
            "Processing: 100%|██████████| 75/75 [07:23<00:00,  5.92s/it]\n"
          ]
        },
        {
          "output_type": "stream",
          "name": "stdout",
          "text": [
            "Epoch: 04, Loss: 0.1600, Test Accuracy: 0.9030, Train Accuracy: 0.9376\n"
          ]
        },
        {
          "output_type": "stream",
          "name": "stderr",
          "text": [
            "Processing: 100%|██████████| 75/75 [07:20<00:00,  5.88s/it]\n"
          ]
        },
        {
          "output_type": "stream",
          "name": "stdout",
          "text": [
            "Epoch: 05, Loss: 0.1507, Test Accuracy: 0.9202, Train Accuracy: 0.9450\n"
          ]
        },
        {
          "output_type": "stream",
          "name": "stderr",
          "text": [
            "Processing: 100%|██████████| 75/75 [07:21<00:00,  5.89s/it]\n"
          ]
        },
        {
          "output_type": "stream",
          "name": "stdout",
          "text": [
            "Epoch: 06, Loss: 0.1790, Test Accuracy: 0.9202, Train Accuracy: 0.9315\n"
          ]
        },
        {
          "output_type": "stream",
          "name": "stderr",
          "text": [
            "Processing: 100%|██████████| 75/75 [07:17<00:00,  5.83s/it]\n"
          ]
        },
        {
          "output_type": "stream",
          "name": "stdout",
          "text": [
            "Epoch: 07, Loss: 0.1309, Test Accuracy: 0.9703, Train Accuracy: 0.9490\n"
          ]
        },
        {
          "output_type": "stream",
          "name": "stderr",
          "text": [
            "Processing: 100%|██████████| 75/75 [07:16<00:00,  5.82s/it]\n"
          ]
        },
        {
          "output_type": "stream",
          "name": "stdout",
          "text": [
            "Epoch: 08, Loss: 0.1190, Test Accuracy: 0.9421, Train Accuracy: 0.9530\n"
          ]
        },
        {
          "output_type": "stream",
          "name": "stderr",
          "text": [
            "Processing: 100%|██████████| 75/75 [07:17<00:00,  5.84s/it]\n"
          ]
        },
        {
          "output_type": "stream",
          "name": "stdout",
          "text": [
            "Epoch: 09, Loss: 0.1019, Test Accuracy: 0.9656, Train Accuracy: 0.9604\n"
          ]
        },
        {
          "output_type": "stream",
          "name": "stderr",
          "text": [
            "Processing: 100%|██████████| 75/75 [07:18<00:00,  5.84s/it]\n"
          ]
        },
        {
          "output_type": "stream",
          "name": "stdout",
          "text": [
            "Epoch: 10, Loss: 0.0805, Test Accuracy: 0.9546, Train Accuracy: 0.9705\n"
          ]
        },
        {
          "output_type": "stream",
          "name": "stderr",
          "text": [
            "Processing: 100%|██████████| 75/75 [07:22<00:00,  5.90s/it]\n"
          ]
        },
        {
          "output_type": "stream",
          "name": "stdout",
          "text": [
            "Epoch: 11, Loss: 0.0710, Test Accuracy: 0.9687, Train Accuracy: 0.9738\n"
          ]
        },
        {
          "output_type": "stream",
          "name": "stderr",
          "text": [
            "Processing: 100%|██████████| 75/75 [07:24<00:00,  5.92s/it]\n"
          ]
        },
        {
          "output_type": "stream",
          "name": "stdout",
          "text": [
            "Epoch: 12, Loss: 0.0776, Test Accuracy: 0.9765, Train Accuracy: 0.9678\n"
          ]
        },
        {
          "output_type": "stream",
          "name": "stderr",
          "text": [
            "Processing: 100%|██████████| 75/75 [07:22<00:00,  5.89s/it]\n"
          ]
        },
        {
          "output_type": "stream",
          "name": "stdout",
          "text": [
            "Epoch: 13, Loss: 0.0972, Test Accuracy: 0.9703, Train Accuracy: 0.9638\n"
          ]
        },
        {
          "output_type": "stream",
          "name": "stderr",
          "text": [
            "Processing: 100%|██████████| 75/75 [07:22<00:00,  5.91s/it]\n"
          ]
        },
        {
          "output_type": "stream",
          "name": "stdout",
          "text": [
            "Epoch: 14, Loss: 0.0573, Test Accuracy: 0.9781, Train Accuracy: 0.9805\n"
          ]
        },
        {
          "output_type": "stream",
          "name": "stderr",
          "text": [
            "Processing: 100%|██████████| 75/75 [07:20<00:00,  5.88s/it]\n"
          ]
        },
        {
          "output_type": "stream",
          "name": "stdout",
          "text": [
            "Epoch: 15, Loss: 0.0754, Test Accuracy: 0.9765, Train Accuracy: 0.9758\n"
          ]
        },
        {
          "output_type": "stream",
          "name": "stderr",
          "text": [
            "Processing: 100%|██████████| 75/75 [07:24<00:00,  5.92s/it]\n"
          ]
        },
        {
          "output_type": "stream",
          "name": "stdout",
          "text": [
            "Epoch: 16, Loss: 0.0653, Test Accuracy: 0.9765, Train Accuracy: 0.9758\n"
          ]
        },
        {
          "output_type": "stream",
          "name": "stderr",
          "text": [
            "Processing: 100%|██████████| 75/75 [07:26<00:00,  5.95s/it]\n"
          ]
        },
        {
          "output_type": "stream",
          "name": "stdout",
          "text": [
            "Epoch: 17, Loss: 0.0729, Test Accuracy: 0.9765, Train Accuracy: 0.9738\n"
          ]
        },
        {
          "output_type": "stream",
          "name": "stderr",
          "text": [
            "Processing: 100%|██████████| 75/75 [07:23<00:00,  5.92s/it]\n"
          ]
        },
        {
          "output_type": "stream",
          "name": "stdout",
          "text": [
            "Epoch: 18, Loss: 0.0759, Test Accuracy: 0.9844, Train Accuracy: 0.9738\n"
          ]
        },
        {
          "output_type": "stream",
          "name": "stderr",
          "text": [
            "Processing: 100%|██████████| 75/75 [07:25<00:00,  5.94s/it]\n"
          ]
        },
        {
          "output_type": "stream",
          "name": "stdout",
          "text": [
            "Epoch: 19, Loss: 0.0712, Test Accuracy: 0.9718, Train Accuracy: 0.9779\n"
          ]
        }
      ]
    },
    {
      "cell_type": "markdown",
      "source": [
        "https://zhuanlan.zhihu.com/p/234638980\n",
        "\n",
        "https://medium.com/deem-blogs/speaking-code-pointnet-65b0a8ddb63f\n",
        "\n",
        "https://github.com/yanx27/Pointnet_Pointnet2_pytorch/blob/master/models/pointnet_cls.py\n"
      ],
      "metadata": {
        "id": "2OsNxZGGm5_8"
      }
    },
    {
      "cell_type": "markdown",
      "source": [
        "# Draw the confusion matrix"
      ],
      "metadata": {
        "id": "G8mQEpjME9Ku"
      }
    },
    {
      "cell_type": "code",
      "source": [
        "import torch\n",
        "from torch_geometric.loader import DataLoader\n",
        "from sklearn.metrics import confusion_matrix,ConfusionMatrixDisplay\n",
        "\n",
        "use_normals = 3\n",
        "\n",
        "# Load the test data\n",
        "testDataLoader = DataLoader(testDataset, batch_size=7)\n",
        "\n",
        "\n",
        "# Load the trained network parameters\n",
        "model = torch.load('/content/drive/MyDrive/Colab Notebooks/Pointnet 0428/PointnetPlusModel0504.pt')\n",
        "# model.load_state_dict(checkpoint['model_state_dict'])\n",
        "\n",
        "y_true = []\n",
        "y_pred = []\n",
        "total_correct = 0\n",
        "with torch.no_grad():\n",
        "  for data in testDataLoader:\n",
        "    mean_correct = []\n",
        "\n",
        "    if use_normals == 2:\n",
        "      points = data.pos\n",
        "      points = np.asarray(points)\n",
        "      normal = data.normal\n",
        "\n",
        "      points = np.reshape(points,[int(np.shape(points)[0]/5000),5000,3])\n",
        "      normal = np.reshape(normal,[int(np.shape(normal)[0]/5000),5000,3])\n",
        "      new_points = np.concatenate((points,normal),axis=2)\n",
        "      points = torch.Tensor(new_points)\n",
        "      points = points.transpose(2, 1)\n",
        "\n",
        "    elif use_normals == 1:\n",
        "      points = data.pos\n",
        "      points = np.asarray(points)\n",
        "\n",
        "      points = np.reshape(points,[int(np.shape(points)[0]/5000),5000,3])\n",
        "      points = torch.Tensor(points)\n",
        "      points = points.transpose(2, 1)\n",
        "    else:\n",
        "      points = data.pos\n",
        "      points = np.asarray(points)\n",
        "      normal = data.normal\n",
        "      color = data.color\n",
        "\n",
        "      points = np.reshape(points,[int(np.shape(points)[0]/5000),5000,3])\n",
        "      normal = np.reshape(normal,[int(np.shape(normal)[0]/5000),5000,3])\n",
        "      color = np.reshape(color,[int(np.shape(color)[0]/5000),5000,3])\n",
        "\n",
        "      new_points = np.concatenate((points,normal,color),axis=2)\n",
        "      points = torch.Tensor(new_points)\n",
        "      points = points.transpose(2, 1)\n",
        "\n",
        "    logits = model(data.pos, data.batch,use_normals,data)\n",
        "    pred = logits.argmax(dim=-1)\n",
        "    total_correct += int((pred == data.y).sum())\n",
        "\n",
        "    y_true.extend(data.y.numpy())\n",
        "    y_pred.extend(pred.numpy())\n",
        "\n",
        "\n",
        "# class_acc[:, 2] = class_acc[:, 0] / class_acc[:, 1]\n",
        "# class_acc = np.mean(class_acc[:, 2])\n",
        "instance_acc = total_correct / len(testDataLoader.dataset)\n",
        "\n",
        "\n",
        "cf_matrix = confusion_matrix(y_true, y_pred)\n",
        "disp = ConfusionMatrixDisplay(confusion_matrix=cf_matrix, display_labels=['Prepraing','Operating'])\n",
        "disp.plot()\n",
        "\n",
        "print(f'Test Accuracy: {instance_acc:.4f}')"
      ],
      "metadata": {
        "colab": {
          "base_uri": "https://localhost:8080/",
          "height": 472
        },
        "id": "fJXAb1ZPE8x9",
        "outputId": "a7303bf0-fd24-48b6-dc12-b7b8da92eca2"
      },
      "execution_count": null,
      "outputs": [
        {
          "output_type": "stream",
          "name": "stdout",
          "text": [
            "Test Accuracy: 0.9828\n"
          ]
        },
        {
          "output_type": "display_data",
          "data": {
            "text/plain": [
              "<Figure size 640x480 with 2 Axes>"
            ],
            "image/png": "[encoded data removed]"
          },
          "metadata": {}
        }
      ]
    }
  ]
}